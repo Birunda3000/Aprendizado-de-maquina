{
 "cells": [
  {
   "cell_type": "markdown",
   "id": "cf1fe0d7-dc15-405f-915d-f65c1e579bb4",
   "metadata": {},
   "source": [
    "# <center> 3° Atividade de Aprendizado de Máquina\n",
    "## <center> Modelos Preditivos - Parte 1\n",
    "### <center> Erick Santos do Nascimento  \n",
    "### <center> Curso de Ciência da Computação - UECE"
   ]
  },
  {
   "cell_type": "markdown",
   "id": "9cae0708-4f94-4e74-bbab-20d9c362a10d",
   "metadata": {},
   "source": [
    "## <center> Resumo\n",
    "<center> Descreva uma breve visão geral sobre o trabalho aqui.  \n",
    "Relatório da atividade sobre modelos de classificação da disciplina de Aprendizado de Máquina (2022.1). O objetivo é explorar as técnicas de classificação de KNN, Naive Bayes, Decision trees\n",
    "\n",
    "*erros devido a divisões por 0*"
   ]
  },
  {
   "cell_type": "markdown",
   "id": "e0f03ceb-ab98-45bb-b1af-5c787bc93da5",
   "metadata": {},
   "source": [
    "## 1 Introdução\n",
    "Apresente uma contextualização sobre a atividade desenvolvida. Obs: Caso utilize alguma informação de fonte externa para complementar seu raciocínio, faça corretamente a referência à bibliografia.\n",
    "\n",
    "Utilizando o dataset [Water Quality Dataset](https://www.kaggle.com/datasets/adityakadiwal/water-potability), as seguintes atividades foram feitas:\n",
    "* Construir modelos de KNN\n",
    "    * Utilize, pelos menos, três diferentes valores de K\n",
    "    * Utilize, pelos menos, três diferentes métricas de distâncias\n",
    "* Construir modelos de Naive Bayes com diferentes tipos de distribuição de dados:\n",
    "    * Gaussiano\n",
    "    * Multinomial\n",
    "    * Bernoulli\n",
    "* Construir o modelo Arvore de Decisão\n",
    "    * Utiliza ındice Gini e Entropia para o cálculo de qualidade da divisão dos nós\n",
    "    * Discuta estratégias de poda que podem ser utilizadas nos seus modelos  \n",
    "Avaliação de cada um dos modelos construídos e executados na seção anterior, da seguinte forma:\n",
    "* Calculo das métricas:\n",
    "    * Acurácia\n",
    "    * Precisão\n",
    "    * Recall\n",
    "    * F-Score\n",
    "* Análise ROC"
   ]
  },
  {
   "cell_type": "markdown",
   "id": "c7a28ec5-f14b-4a06-9b75-227141325060",
   "metadata": {
    "tags": []
   },
   "source": [
    "## 2 Modelos Preditivos \n",
    "\n",
    "\n",
    "Apresente uma contextualização sobre Modelos Preditivos e sua importância para Aprendizado de Máquina.\n",
    "\n",
    "\n",
    "Um modelo preditivo é, de forma simplificada, uma função matemática que pode ser aplicada a uma grande quantidade de dados. A ideia é evidenciar padrões capazes de apontar as próximas tendências. É como se fosse possível prever com eficiência o futuro, de forma matemática, com probabilidade e estatística. Eles se baseiam em algoritmos estatísticos e técnicas de aprendizado de maquina para identificar padrões, a partir de dados armazenados em um determinado histórico, algumas tecnicas são capazes de generalizar e aprender novos padrões. As aplicações de uso são muitas e vão desde a prevenção contra fraudes, otimização de campanhas de marketing, identificação de doenças, até melhorias em processos operacionais.  \n",
    "Em última análise, o modelo preditivo ajuda em uma tomada de decisão mais eficiente, por estar de acordo com um cenário de necessidades específicas, já que é moldado conforme as necessidades de quem o desenha e alimenta seus dados."
   ]
  },
  {
   "cell_type": "markdown",
   "id": "0d100ace-eb56-46d0-9199-20dadceb8960",
   "metadata": {},
   "source": [
    "### 2.1 KNN \n",
    "Apresente o algoritmo KNN, descrevendo suas principais características, vantagens e desvantagens.\n",
    "\n",
    "\n",
    "O algoritmo KNN assume que coisas semelhantes existem nas proximidades. Em outras palavras, coisas semelhantes estão próximas umas das outras e baseado nas distancias (a forma de se calcular a distancia entre as amostras é um dos parametros) é definido a semelhança entre as amostras. Depois de calculadas as distancias se ordena elas em ordem crescente e baseado nas amostras mais proximas se define o resultado da amostra que se deseja prever.  \n",
    "Entre as vantagens estão sua simplicidade em teoria e implementação, e por trazer bons resultados em diversas aplicações. Como desvantagem, temos seu custo computacional, pois para cada novo exemplo, devemos calcular sua distância até todos os outros exemplos, além de ser sensível a ruídos nos dados. Vale também lembrar que o algoritmo espera variáveis numéricas que devem ser, de preferência, normalizadas."
   ]
  },
  {
   "cell_type": "markdown",
   "id": "b67c0bca-2b44-4194-93ba-846006156e30",
   "metadata": {},
   "source": [
    "### 2.2 Naive Bayes\n",
    "Apresente o algoritmo Naive Bayes, descrevendo suas principais características, vantagens e desvantagens.\n",
    "\n",
    "O classificador Naive Bayes é um algoritmo que se baseia no teorema de Bayes para realizar predições em aprendizagem de máquina. O termo “naive” (ingênuo) diz respeito à forma como o algoritmo analisa as características de uma base de dados: ele assume que as features são independentes entre si.  \n",
    "Além disso, ele também assume que as variáveis features são todas igualmente importantes para o resultado. \n",
    "Vantagens: Treinamento rápido (varredura única), rápido para classificar, não sensível a características irrelevantes, lida com dados reais e discretos, pode funcionar facilmente com valores ausentes, fácil de atualizar na chegada de novos dados, se destaca em problemas de classificação de texto\n",
    "Desvantagem: Assume independência das características, a forte suposição de que os as características são independentes (o que dificilmente se aplica às aplicações da vida real), escassez de dados afeta bastante o desempenho do modelo (feqüência zero, isto é, se a categoria de qualquer variável categórica não for vista no conjunto de dados de treinamento, o modelo atribuirá uma probabilidade zero a essa categoria e, portanto, uma previsão não poderá ser feita)."
   ]
  },
  {
   "cell_type": "markdown",
   "id": "5dcfc5d2-1737-4948-ade1-506bea224ce7",
   "metadata": {},
   "source": [
    "### 2.3 Árvore de Decisão\n",
    "Apresente o algoritmo Árvore de Decisão, descrevendo suas principais características, vantagens e desvantagens.  \n",
    "\n",
    "Uma árvore de decisão é um algoritmo de aprendizado de máquina supervisionado que é utilizado para classificação e para regressão. Isto é, pode ser usado para prever categorias discretas (sim ou não, por exemplo) e para prever valores numéricos. Assim como um fluxograma, a árvore de decisão estabelece nós (decision nodes) que se relacionam entre si por uma hierarquia. Existe o nó-raiz (root node), que é o mais importante, e os nós-folha (leaf nodes), que são os resultados finais. No contexto de machine learning, o raiz é um dos atributos da base de dados e o nó-folha é a classe ou o valor que será gerado como resposta.  \n",
    "Na ligação entre nós, temos regras de “se-então”. Ao chegar em um nó A, o algoritmo se pergunta acerca de uma regra, uma condição, como “se a característica X do registro analisado é menor do que 30?”, se for menor, então ele vai para um lado da árvore, se for maior, então ele vai para outro. No próximo nó, segue a mesma lógica.  \n",
    "É um algoritmo que segue o que chamamos de “recursivo” em computação. Ou seja, ele repete o mesmo padrão sempre na medida em que vai entrando em novos níveis de profundidade. É como se uma função chamasse a ela mesma como uma segunda função para uma execução paralela, da qual a primeira função depende para gerar sua resposta. Vantagens: fácil interpretação. Percebe-se a razão da decisão, atributos mais relevantes aparecem mais na parte superior da árvore (Entropia e Ganho de Informação), adaptável também a problemas de regressão (Árvores de Regressão).  \n",
    "Desvantagens: Podem se tomar complexas (verificar condição de parada), sensibilidade a pequenas perturbações no conjunto de treino (necessário de\n",
    "árvore), facilidade de apresentar overffiting, tende a ignorar classes com baixa ocorrencia"
   ]
  },
  {
   "cell_type": "markdown",
   "id": "e1de77d0-7034-4a7e-9236-32eee10f032a",
   "metadata": {},
   "source": [
    "## 3 Metodologia \n",
    "Descreva aqui os procedimentos executados na realização do trabalho. Apresente, de forma clara, os experimentos realizados, descrevendo os parâmetros e valores utilizados, bem como as decisões de projeto tomadas.\n",
    "\n",
    "* Construir modelos de KNN\n",
    "    * Foram construidos varios modelos sempre fazendo busca de varios valores para K no espaço de busca dos inteiros entre 1 e N, varias metricas de distancia foram usadas (euclidiana, manhattan e chebyshev), com uso do cross-validation (com CV divisões), as metricas para validação foram a acuracia, precisão, recall e f1_score. Depois a anlise ROC foi feita com os parametros que tiveram melhores resultados\n",
    "* Construir modelos de Naive Bayes:\n",
    "    * Foram construidos modelos com diferentes tipos de distribuição de dados (Gaussiano, Multinomial, Bernoulli), geradas as metricas (acuracia, precisão, recall e f1_score) de avaliação com uso do cross-validation (com CV divisões) e ao final a analise ROC dos modelos\n",
    "* Construir o modelo Arvore de Decisão\n",
    "    * Utiliza ındice Gini e Entropia para o cálculo de qualidade da divisão dos nós\n",
    "    * Discuta estratégias de poda que podem ser utilizadas nos seus modelos  "
   ]
  },
  {
   "cell_type": "markdown",
   "id": "d66a567d-3cd0-49dc-8d4f-3e3f173ce816",
   "metadata": {},
   "source": [
    "### 3.1 realizando atividades"
   ]
  },
  {
   "cell_type": "code",
   "execution_count": 1,
   "id": "172ff4dc-1271-43da-8711-72b9c41001de",
   "metadata": {
    "tags": []
   },
   "outputs": [
    {
     "data": {
      "text/html": [
       "<div>\n",
       "<style scoped>\n",
       "    .dataframe tbody tr th:only-of-type {\n",
       "        vertical-align: middle;\n",
       "    }\n",
       "\n",
       "    .dataframe tbody tr th {\n",
       "        vertical-align: top;\n",
       "    }\n",
       "\n",
       "    .dataframe thead th {\n",
       "        text-align: right;\n",
       "    }\n",
       "</style>\n",
       "<table border=\"1\" class=\"dataframe\">\n",
       "  <thead>\n",
       "    <tr style=\"text-align: right;\">\n",
       "      <th></th>\n",
       "      <th>ph</th>\n",
       "      <th>Hardness</th>\n",
       "      <th>Solids</th>\n",
       "      <th>Chloramines</th>\n",
       "      <th>Sulfate</th>\n",
       "      <th>Conductivity</th>\n",
       "      <th>Organic_carbon</th>\n",
       "      <th>Trihalomethanes</th>\n",
       "      <th>Turbidity</th>\n",
       "      <th>Potability</th>\n",
       "    </tr>\n",
       "  </thead>\n",
       "  <tbody>\n",
       "    <tr>\n",
       "      <th>0</th>\n",
       "      <td>8.316766</td>\n",
       "      <td>214.373394</td>\n",
       "      <td>22018.417441</td>\n",
       "      <td>8.059332</td>\n",
       "      <td>356.886136</td>\n",
       "      <td>363.266516</td>\n",
       "      <td>18.436524</td>\n",
       "      <td>100.341674</td>\n",
       "      <td>4.628771</td>\n",
       "      <td>0</td>\n",
       "    </tr>\n",
       "    <tr>\n",
       "      <th>1</th>\n",
       "      <td>9.092223</td>\n",
       "      <td>181.101509</td>\n",
       "      <td>17978.986339</td>\n",
       "      <td>6.546600</td>\n",
       "      <td>310.135738</td>\n",
       "      <td>398.410813</td>\n",
       "      <td>11.558279</td>\n",
       "      <td>31.997993</td>\n",
       "      <td>4.075075</td>\n",
       "      <td>0</td>\n",
       "    </tr>\n",
       "    <tr>\n",
       "      <th>2</th>\n",
       "      <td>5.584087</td>\n",
       "      <td>188.313324</td>\n",
       "      <td>28748.687739</td>\n",
       "      <td>7.544869</td>\n",
       "      <td>326.678363</td>\n",
       "      <td>280.467916</td>\n",
       "      <td>8.399735</td>\n",
       "      <td>54.917862</td>\n",
       "      <td>2.559708</td>\n",
       "      <td>0</td>\n",
       "    </tr>\n",
       "    <tr>\n",
       "      <th>3</th>\n",
       "      <td>10.223862</td>\n",
       "      <td>248.071735</td>\n",
       "      <td>28749.716544</td>\n",
       "      <td>7.513408</td>\n",
       "      <td>393.663396</td>\n",
       "      <td>283.651634</td>\n",
       "      <td>13.789695</td>\n",
       "      <td>84.603556</td>\n",
       "      <td>2.672989</td>\n",
       "      <td>0</td>\n",
       "    </tr>\n",
       "    <tr>\n",
       "      <th>4</th>\n",
       "      <td>8.635849</td>\n",
       "      <td>203.361523</td>\n",
       "      <td>13672.091764</td>\n",
       "      <td>4.563009</td>\n",
       "      <td>303.309771</td>\n",
       "      <td>474.607645</td>\n",
       "      <td>12.363817</td>\n",
       "      <td>62.798309</td>\n",
       "      <td>4.401425</td>\n",
       "      <td>0</td>\n",
       "    </tr>\n",
       "    <tr>\n",
       "      <th>...</th>\n",
       "      <td>...</td>\n",
       "      <td>...</td>\n",
       "      <td>...</td>\n",
       "      <td>...</td>\n",
       "      <td>...</td>\n",
       "      <td>...</td>\n",
       "      <td>...</td>\n",
       "      <td>...</td>\n",
       "      <td>...</td>\n",
       "      <td>...</td>\n",
       "    </tr>\n",
       "    <tr>\n",
       "      <th>2006</th>\n",
       "      <td>8.989900</td>\n",
       "      <td>215.047358</td>\n",
       "      <td>15921.412018</td>\n",
       "      <td>6.297312</td>\n",
       "      <td>312.931022</td>\n",
       "      <td>390.410231</td>\n",
       "      <td>9.899115</td>\n",
       "      <td>55.069304</td>\n",
       "      <td>4.613843</td>\n",
       "      <td>1</td>\n",
       "    </tr>\n",
       "    <tr>\n",
       "      <th>2007</th>\n",
       "      <td>6.702547</td>\n",
       "      <td>207.321086</td>\n",
       "      <td>17246.920347</td>\n",
       "      <td>7.708117</td>\n",
       "      <td>304.510230</td>\n",
       "      <td>329.266002</td>\n",
       "      <td>16.217303</td>\n",
       "      <td>28.878601</td>\n",
       "      <td>3.442983</td>\n",
       "      <td>1</td>\n",
       "    </tr>\n",
       "    <tr>\n",
       "      <th>2008</th>\n",
       "      <td>11.491011</td>\n",
       "      <td>94.812545</td>\n",
       "      <td>37188.826022</td>\n",
       "      <td>9.263166</td>\n",
       "      <td>258.930600</td>\n",
       "      <td>439.893618</td>\n",
       "      <td>16.172755</td>\n",
       "      <td>41.558501</td>\n",
       "      <td>4.369264</td>\n",
       "      <td>1</td>\n",
       "    </tr>\n",
       "    <tr>\n",
       "      <th>2009</th>\n",
       "      <td>6.069616</td>\n",
       "      <td>186.659040</td>\n",
       "      <td>26138.780191</td>\n",
       "      <td>7.747547</td>\n",
       "      <td>345.700257</td>\n",
       "      <td>415.886955</td>\n",
       "      <td>12.067620</td>\n",
       "      <td>60.419921</td>\n",
       "      <td>3.669712</td>\n",
       "      <td>1</td>\n",
       "    </tr>\n",
       "    <tr>\n",
       "      <th>2010</th>\n",
       "      <td>4.668102</td>\n",
       "      <td>193.681735</td>\n",
       "      <td>47580.991603</td>\n",
       "      <td>7.166639</td>\n",
       "      <td>359.948574</td>\n",
       "      <td>526.424171</td>\n",
       "      <td>13.894419</td>\n",
       "      <td>66.687695</td>\n",
       "      <td>4.435821</td>\n",
       "      <td>1</td>\n",
       "    </tr>\n",
       "  </tbody>\n",
       "</table>\n",
       "<p>2011 rows × 10 columns</p>\n",
       "</div>"
      ],
      "text/plain": [
       "             ph    Hardness        Solids  Chloramines     Sulfate  \\\n",
       "0      8.316766  214.373394  22018.417441     8.059332  356.886136   \n",
       "1      9.092223  181.101509  17978.986339     6.546600  310.135738   \n",
       "2      5.584087  188.313324  28748.687739     7.544869  326.678363   \n",
       "3     10.223862  248.071735  28749.716544     7.513408  393.663396   \n",
       "4      8.635849  203.361523  13672.091764     4.563009  303.309771   \n",
       "...         ...         ...           ...          ...         ...   \n",
       "2006   8.989900  215.047358  15921.412018     6.297312  312.931022   \n",
       "2007   6.702547  207.321086  17246.920347     7.708117  304.510230   \n",
       "2008  11.491011   94.812545  37188.826022     9.263166  258.930600   \n",
       "2009   6.069616  186.659040  26138.780191     7.747547  345.700257   \n",
       "2010   4.668102  193.681735  47580.991603     7.166639  359.948574   \n",
       "\n",
       "      Conductivity  Organic_carbon  Trihalomethanes  Turbidity  Potability  \n",
       "0       363.266516       18.436524       100.341674   4.628771           0  \n",
       "1       398.410813       11.558279        31.997993   4.075075           0  \n",
       "2       280.467916        8.399735        54.917862   2.559708           0  \n",
       "3       283.651634       13.789695        84.603556   2.672989           0  \n",
       "4       474.607645       12.363817        62.798309   4.401425           0  \n",
       "...            ...             ...              ...        ...         ...  \n",
       "2006    390.410231        9.899115        55.069304   4.613843           1  \n",
       "2007    329.266002       16.217303        28.878601   3.442983           1  \n",
       "2008    439.893618       16.172755        41.558501   4.369264           1  \n",
       "2009    415.886955       12.067620        60.419921   3.669712           1  \n",
       "2010    526.424171       13.894419        66.687695   4.435821           1  \n",
       "\n",
       "[2011 rows x 10 columns]"
      ]
     },
     "execution_count": 1,
     "metadata": {},
     "output_type": "execute_result"
    }
   ],
   "source": [
    "import pandas as pd\n",
    "import numpy as np\n",
    "import matplotlib.pyplot as plt\n",
    "import seaborn as sns\n",
    "import numpy as np\n",
    "from sklearn import preprocessing # para centralizar os dados e manter a proporção entre as dimensões\n",
    "\n",
    "from tqdm import tqdm\n",
    "\n",
    "df = pd.read_csv('../water_potability.csv')\n",
    "df = df.dropna().reset_index(drop=True)\n",
    "df"
   ]
  },
  {
   "cell_type": "code",
   "execution_count": 2,
   "id": "d96adeb0-e093-4a25-a09f-2f873afb63c1",
   "metadata": {
    "tags": []
   },
   "outputs": [
    {
     "data": {
      "text/plain": [
       "array([[ 0.7824658 ,  0.56411376,  0.01168692, ...,  1.22703167,\n",
       "         2.11165179,  0.84476056],\n",
       "       [ 1.27546291, -0.45565257, -0.45583491, ..., -0.84215371,\n",
       "        -2.14039865,  0.13503344],\n",
       "       [-0.95483488, -0.23461412,  0.7906452 , ..., -1.79234008,\n",
       "        -0.7144228 , -1.80736621],\n",
       "       ...,\n",
       "       [ 2.8004919 , -3.10036538,  1.76750279, ...,  0.54602107,\n",
       "        -1.5455849 ,  0.51212515],\n",
       "       [-0.64615977, -0.28531709,  0.48857575, ..., -0.6889287 ,\n",
       "        -0.3721083 , -0.3845623 ],\n",
       "       [-1.53717226, -0.07007504,  2.9702871 , ..., -0.139372  ,\n",
       "         0.01784567,  0.59743748]])"
      ]
     },
     "execution_count": 2,
     "metadata": {},
     "output_type": "execute_result"
    }
   ],
   "source": [
    "y = df['Potability']\n",
    "X = df.drop(columns='Potability')\n",
    "X =  preprocessing.scale(X, with_mean='False')\n",
    "X"
   ]
  },
  {
   "cell_type": "markdown",
   "id": "e83672ff-186a-446c-90f4-914fa7e15b38",
   "metadata": {},
   "source": [
    "#### KNN"
   ]
  },
  {
   "cell_type": "code",
   "execution_count": 3,
   "id": "7b3caf16-d817-4651-8a48-054489b8ff9a",
   "metadata": {},
   "outputs": [],
   "source": [
    "from sklearn.metrics import accuracy_score, precision_score, recall_score, f1_score\n",
    "from sklearn.neighbors import KNeighborsClassifier\n",
    "from sklearn import metrics\n",
    "\n",
    "from sklearn.model_selection import cross_val_score\n",
    "\n",
    "from sklearn.model_selection import cross_validate\n",
    "\n",
    "%matplotlib inline\n",
    "import matplotlib.pyplot as plt\n",
    "N = 30#k_MAX\n",
    "CV = 30\n",
    "\n",
    "nome_metricas = ['accuracy', 'precision', 'recall', 'f1']\n",
    "#nome_metricas = ['accuracy', 'recall', 'f1']"
   ]
  },
  {
   "cell_type": "code",
   "execution_count": 4,
   "id": "2f08d67c-5c2d-4be0-90df-a34a3e37039e",
   "metadata": {},
   "outputs": [],
   "source": [
    "def knn_train_func(N, CV, nome_metricas, met):\n",
    "    k_range = range(1, N)\n",
    "    acc = {}\n",
    "    acc_list = []\n",
    "    pre = {}\n",
    "    pre_list = []\n",
    "    rec = {}\n",
    "    rec_list = []\n",
    "    f1 = {}\n",
    "    f1_list = []\n",
    "   \n",
    "    for k in tqdm(k_range):\n",
    "        knn = KNeighborsClassifier(n_neighbors=k, metric=met,)\n",
    "        metricas = cross_validate(knn, X, y, cv=CV, scoring=nome_metricas, return_train_score=True)\n",
    "\n",
    "        acc[k] = np.mean(  metricas['test_accuracy']  )\n",
    "        acc_list.append(np.mean(  metricas['test_accuracy']  ))\n",
    "\n",
    "        pre[k] = np.mean(  metricas['test_precision']  )\n",
    "        pre_list.append(np.mean(  metricas['test_precision']  ))\n",
    "\n",
    "        rec[k] = np.mean(  metricas['test_recall']  )\n",
    "        rec_list.append(np.mean(  metricas['test_recall']  ))\n",
    "\n",
    "        f1[k] = np.mean(  metricas['test_f1']  )\n",
    "        f1_list.append(np.mean(  metricas['test_f1']  ))\n",
    "    \n",
    "    return acc, acc_list, pre, pre_list, rec, rec_list, f1, f1_list, k_range\n",
    "\n",
    "def plot_roc_curve(fper, tper):\n",
    "    plt.plot(fper, tper, color='red', label='ROC')\n",
    "    plt.plot([0, 1], [0, 1], color='green', linestyle='--')\n",
    "    plt.xlabel('False Positive Rate')\n",
    "    plt.ylabel('True Positive Rate')\n",
    "    plt.title('Receiver Operating Characteristic Curve')\n",
    "    plt.legend()\n",
    "    plt.show()"
   ]
  },
  {
   "cell_type": "code",
   "execution_count": 5,
   "id": "399838e0-ec3e-4416-8696-6434d13a83f5",
   "metadata": {},
   "outputs": [
    {
     "name": "stderr",
     "output_type": "stream",
     "text": [
      "100%|██████████| 29/29 [00:03<00:00,  8.53it/s]\n"
     ]
    },
    {
     "data": {
      "image/png": "[encoded data removed]",
      "text/plain": [
       "<Figure size 432x288 with 1 Axes>"
      ]
     },
     "metadata": {
      "needs_background": "light"
     },
     "output_type": "display_data"
    },
    {
     "name": "stdout",
     "output_type": "stream",
     "text": [
      "Acuracia maxima com K = 1, 1.0\n"
     ]
    }
   ],
   "source": [
    "k_range = range(1, N)\n",
    "scores = {}\n",
    "scores_list = []\n",
    "for k in tqdm(k_range):\n",
    "    knn = KNeighborsClassifier(n_neighbors=k, metric='euclidean')\n",
    "    knn.fit(X,y)\n",
    "    y_pred = knn.predict(X)\n",
    "    scores[k] = metrics.accuracy_score(y, y_pred)\n",
    "    scores_list.append(metrics.accuracy_score(y, y_pred))\n",
    "    \n",
    "plt.plot(k_range, scores_list)\n",
    "plt.xlabel('Valor do K')\n",
    "plt.ylabel('Accuracia')\n",
    "plt.grid()\n",
    "plt.show()\n",
    "print(f'Acuracia maxima com K = {np.argmax(scores_list)+1}, { scores[ np.argmax(scores_list)+1 ] }')"
   ]
  },
  {
   "cell_type": "code",
   "execution_count": 6,
   "id": "d6787194-2295-423a-93ca-2a9f7793869e",
   "metadata": {},
   "outputs": [
    {
     "name": "stderr",
     "output_type": "stream",
     "text": [
      "100%|██████████| 29/29 [00:04<00:00,  6.85it/s]\n"
     ]
    },
    {
     "data": {
      "image/png": "[encoded data removed]",
      "text/plain": [
       "<Figure size 432x288 with 1 Axes>"
      ]
     },
     "metadata": {
      "needs_background": "light"
     },
     "output_type": "display_data"
    },
    {
     "name": "stdout",
     "output_type": "stream",
     "text": [
      "Acuracia maxima com K = 1, 1.0\n"
     ]
    }
   ],
   "source": [
    "k_range = range(1, N)\n",
    "scores = {}\n",
    "scores_list = []\n",
    "for k in tqdm(k_range):\n",
    "    knn = KNeighborsClassifier(n_neighbors=k, metric='manhattan')\n",
    "    knn.fit(X,y)\n",
    "    y_pred = knn.predict(X)\n",
    "    scores[k] = metrics.accuracy_score(y, y_pred)\n",
    "    scores_list.append(metrics.accuracy_score(y, y_pred))\n",
    "    \n",
    "plt.plot(k_range, scores_list)\n",
    "plt.xlabel('Valor do K')\n",
    "plt.ylabel('Accuracia')\n",
    "plt.grid()\n",
    "plt.show()\n",
    "print(f'Acuracia maxima com K = {np.argmax(scores_list)+1}, { scores[ np.argmax(scores_list)+1 ] }')"
   ]
  },
  {
   "cell_type": "code",
   "execution_count": 7,
   "id": "defb4436-f3e9-40a0-a8d5-7113e40b6b2b",
   "metadata": {},
   "outputs": [
    {
     "name": "stderr",
     "output_type": "stream",
     "text": [
      "100%|██████████| 29/29 [00:02<00:00, 11.51it/s]\n"
     ]
    },
    {
     "data": {
      "image/png": "[encoded data removed]",
      "text/plain": [
       "<Figure size 432x288 with 1 Axes>"
      ]
     },
     "metadata": {
      "needs_background": "light"
     },
     "output_type": "display_data"
    },
    {
     "name": "stdout",
     "output_type": "stream",
     "text": [
      "Acuracia maxima com K = 1, 1.0\n"
     ]
    }
   ],
   "source": [
    "k_range = range(1, N)\n",
    "scores = {}\n",
    "scores_list = []\n",
    "for k in tqdm(k_range):\n",
    "    knn = KNeighborsClassifier(n_neighbors=k, metric='chebyshev')\n",
    "    knn.fit(X,y)\n",
    "    y_pred = knn.predict(X)\n",
    "    scores[k] = metrics.accuracy_score(y, y_pred)\n",
    "    scores_list.append(metrics.accuracy_score(y, y_pred))\n",
    "    \n",
    "plt.plot(k_range, scores_list)\n",
    "plt.xlabel('Valor do K')\n",
    "plt.ylabel('Accuracia')\n",
    "plt.grid()\n",
    "plt.show()\n",
    "print(f'Acuracia maxima com K = {np.argmax(scores_list)+1}, { scores[ np.argmax(scores_list)+1 ] }')"
   ]
  },
  {
   "cell_type": "markdown",
   "id": "a9504bec-01a1-4cb2-8ade-ad4e459c3023",
   "metadata": {},
   "source": [
    "##### Distancia euclidiana"
   ]
  },
  {
   "cell_type": "code",
   "execution_count": 8,
   "id": "67b12685-d606-414f-9213-e994fed12b36",
   "metadata": {},
   "outputs": [
    {
     "name": "stderr",
     "output_type": "stream",
     "text": [
      "100%|██████████| 29/29 [01:45<00:00,  3.65s/it]"
     ]
    },
    {
     "name": "stdout",
     "output_type": "stream",
     "text": [
      "Medias para o teste com 10 divisões\n",
      "Acuracia - 0.640599991926776\n",
      "Precisão - 0.6328851899606545\n",
      "Recall - 0.2920923797360579\n",
      "F1 - 0.3852586686383939\n"
     ]
    },
    {
     "name": "stderr",
     "output_type": "stream",
     "text": [
      "\n"
     ]
    },
    {
     "data": {
      "image/png": "[encoded data removed]",
      "text/plain": [
       "<Figure size 432x288 with 1 Axes>"
      ]
     },
     "metadata": {
      "needs_background": "light"
     },
     "output_type": "display_data"
    },
    {
     "name": "stdout",
     "output_type": "stream",
     "text": [
      "Acuracia media maxima com K = 13, 0.6523339186420838\n"
     ]
    }
   ],
   "source": [
    "acc, acc_list, pre, pre_list, rec, rec_list, f1, f1_list, k_range = knn_train_func(N, CV, nome_metricas, 'euclidean')\n",
    "print('Medias para o teste com 10 divisões')\n",
    "print(f'Acuracia - {np.mean(  acc_list  )}')\n",
    "print(f'Precisão - {np.mean(  pre_list  )}')\n",
    "print(f'Recall - {np.mean(  rec_list  )}')\n",
    "print(f'F1 - {np.mean(  f1_list   )}')\n",
    "\n",
    "plt.plot(k_range, acc_list)\n",
    "plt.xlabel('Valor do K')\n",
    "plt.ylabel('Accuracia')\n",
    "plt.grid()\n",
    "plt.show()\n",
    "print(f'Acuracia media maxima com K = {np.argmax(acc_list)+1}, { acc[ np.argmax(acc_list)+1 ] }')"
   ]
  },
  {
   "cell_type": "markdown",
   "id": "acf20352-7c75-46b9-8f06-a5c3a0842299",
   "metadata": {},
   "source": [
    "##### Distancia Manhattan"
   ]
  },
  {
   "cell_type": "code",
   "execution_count": 9,
   "id": "c60e702e-3cf2-4d16-ac4d-7d4bd4f94dfa",
   "metadata": {
    "tags": []
   },
   "outputs": [
    {
     "name": "stderr",
     "output_type": "stream",
     "text": [
      "100%|██████████| 29/29 [02:06<00:00,  4.37s/it]"
     ]
    },
    {
     "name": "stdout",
     "output_type": "stream",
     "text": [
      "Medias para o teste com 10 divisões\n",
      "Acuracia - 0.6403010303452312\n",
      "Precisão - 0.6395787103168279\n",
      "Recall - 0.2907620263942102\n",
      "F1 - 0.38518849641492353\n"
     ]
    },
    {
     "name": "stderr",
     "output_type": "stream",
     "text": [
      "\n"
     ]
    },
    {
     "data": {
      "image/png": "[encoded data removed]",
      "text/plain": [
       "<Figure size 432x288 with 1 Axes>"
      ]
     },
     "metadata": {
      "needs_background": "light"
     },
     "output_type": "display_data"
    },
    {
     "name": "stdout",
     "output_type": "stream",
     "text": [
      "Acuracia media maxima com K = 23, 0.6548800117061752\n"
     ]
    }
   ],
   "source": [
    "acc, acc_list, pre, pre_list, rec, rec_list, f1, f1_list, k_range = knn_train_func(N, CV, nome_metricas, 'manhattan')\n",
    "print('Medias para o teste com 10 divisões')\n",
    "print(f'Acuracia - {np.mean(  acc_list  )}')\n",
    "print(f'Precisão - {np.mean(  pre_list  )}')\n",
    "print(f'Recall - {np.mean(  rec_list  )}')\n",
    "print(f'F1 - {np.mean(  f1_list   )}')\n",
    "\n",
    "plt.plot(k_range, acc_list)\n",
    "plt.xlabel('Valor do K')\n",
    "plt.ylabel('Accuracia')\n",
    "plt.grid()\n",
    "plt.show()\n",
    "print(f'Acuracia media maxima com K = {np.argmax(acc_list)+1}, { acc[ np.argmax(acc_list)+1 ] }')"
   ]
  },
  {
   "cell_type": "markdown",
   "id": "89c182d3-8780-4775-a6f5-85e1072cd6d4",
   "metadata": {},
   "source": [
    "##### Distancia chebyshev"
   ]
  },
  {
   "cell_type": "code",
   "execution_count": 10,
   "id": "7c993251-25e7-47d5-b35b-a4266ebad2e9",
   "metadata": {
    "tags": []
   },
   "outputs": [
    {
     "name": "stderr",
     "output_type": "stream",
     "text": [
      "100%|██████████| 29/29 [01:19<00:00,  2.73s/it]"
     ]
    },
    {
     "name": "stdout",
     "output_type": "stream",
     "text": [
      "Medias para o teste com 10 divisões\n",
      "Acuracia - 0.6322361317146519\n",
      "Precisão - 0.6113136146791096\n",
      "Recall - 0.26389497050416594\n",
      "F1 - 0.3536385192670135\n"
     ]
    },
    {
     "name": "stderr",
     "output_type": "stream",
     "text": [
      "\n"
     ]
    },
    {
     "data": {
      "image/png": "[encoded data removed]",
      "text/plain": [
       "<Figure size 432x288 with 1 Axes>"
      ]
     },
     "metadata": {
      "needs_background": "light"
     },
     "output_type": "display_data"
    },
    {
     "name": "stdout",
     "output_type": "stream",
     "text": [
      "Acuracia media maxima com K = 12, 0.6518583552824117\n"
     ]
    }
   ],
   "source": [
    "acc, acc_list, pre, pre_list, rec, rec_list, f1, f1_list, k_range = knn_train_func(N, CV, nome_metricas, 'chebyshev')\n",
    "print('Medias para o teste com 10 divisões')\n",
    "print(f'Acuracia - {np.mean(  acc_list  )}')\n",
    "print(f'Precisão - {np.mean(  pre_list  )}')\n",
    "print(f'Recall - {np.mean(  rec_list  )}')\n",
    "print(f'F1 - {np.mean(  f1_list   )}')\n",
    "\n",
    "plt.plot(k_range, acc_list)\n",
    "plt.xlabel('Valor do K')\n",
    "plt.ylabel('Accuracia')\n",
    "plt.grid()\n",
    "plt.show()\n",
    "print(f'Acuracia media maxima com K = {np.argmax(acc_list)+1}, { acc[ np.argmax(acc_list)+1 ] }')"
   ]
  },
  {
   "cell_type": "markdown",
   "id": "363a9f45-2a72-435c-91f0-83a2b613c693",
   "metadata": {},
   "source": [
    "#### Naive Bayes"
   ]
  },
  {
   "cell_type": "code",
   "execution_count": 11,
   "id": "c2e47349-4af3-42ae-b9c9-76a9c0842438",
   "metadata": {},
   "outputs": [],
   "source": [
    "#Import Gaussian Naive Bayes model\n",
    "from sklearn.naive_bayes import GaussianNB\n",
    "from sklearn.naive_bayes import BernoulliNB\n",
    "from sklearn.naive_bayes import MultinomialNB\n",
    "from sklearn.preprocessing import MinMaxScaler"
   ]
  },
  {
   "cell_type": "markdown",
   "id": "f9eeaadf-1815-407c-9eda-415e69904cbc",
   "metadata": {},
   "source": [
    "##### Bernoulli"
   ]
  },
  {
   "cell_type": "code",
   "execution_count": 12,
   "id": "35619e53-abde-4015-b7f6-4596d55cdafd",
   "metadata": {},
   "outputs": [],
   "source": [
    "scaler = MinMaxScaler()\n",
    "scaler.fit(X)\n",
    "scaled_data = scaler.transform(X)"
   ]
  },
  {
   "cell_type": "code",
   "execution_count": 13,
   "id": "54b6a900-7046-4636-857e-111546326609",
   "metadata": {},
   "outputs": [
    {
     "name": "stdout",
     "output_type": "stream",
     "text": [
      "0.6001989060169071\n"
     ]
    }
   ],
   "source": [
    "NB_B = BernoulliNB()\n",
    "NB_B.fit(scaled_data,y)\n",
    "y_pred = NB_B.predict(scaled_data)\n",
    "print(metrics.accuracy_score(y, y_pred))"
   ]
  },
  {
   "cell_type": "code",
   "execution_count": 14,
   "id": "4c6ff492-6489-4216-93c1-3ec1a1717c55",
   "metadata": {
    "tags": []
   },
   "outputs": [
    {
     "name": "stderr",
     "output_type": "stream",
     "text": [
      "/usr/local/lib/python3.8/dist-packages/sklearn/metrics/_classification.py:1318: UndefinedMetricWarning: Precision is ill-defined and being set to 0.0 due to no predicted samples. Use `zero_division` parameter to control this behavior.\n",
      "  _warn_prf(average, modifier, msg_start, len(result))\n",
      "/usr/local/lib/python3.8/dist-packages/sklearn/metrics/_classification.py:1318: UndefinedMetricWarning: Precision is ill-defined and being set to 0.0 due to no predicted samples. Use `zero_division` parameter to control this behavior.\n",
      "  _warn_prf(average, modifier, msg_start, len(result))\n",
      "/usr/local/lib/python3.8/dist-packages/sklearn/metrics/_classification.py:1318: UndefinedMetricWarning: Precision is ill-defined and being set to 0.0 due to no predicted samples. Use `zero_division` parameter to control this behavior.\n",
      "  _warn_prf(average, modifier, msg_start, len(result))\n",
      "/usr/local/lib/python3.8/dist-packages/sklearn/metrics/_classification.py:1318: UndefinedMetricWarning: Precision is ill-defined and being set to 0.0 due to no predicted samples. Use `zero_division` parameter to control this behavior.\n",
      "  _warn_prf(average, modifier, msg_start, len(result))\n",
      "/usr/local/lib/python3.8/dist-packages/sklearn/metrics/_classification.py:1318: UndefinedMetricWarning: Precision is ill-defined and being set to 0.0 due to no predicted samples. Use `zero_division` parameter to control this behavior.\n",
      "  _warn_prf(average, modifier, msg_start, len(result))\n",
      "/usr/local/lib/python3.8/dist-packages/sklearn/metrics/_classification.py:1318: UndefinedMetricWarning: Precision is ill-defined and being set to 0.0 due to no predicted samples. Use `zero_division` parameter to control this behavior.\n",
      "  _warn_prf(average, modifier, msg_start, len(result))\n",
      "/usr/local/lib/python3.8/dist-packages/sklearn/metrics/_classification.py:1318: UndefinedMetricWarning: Precision is ill-defined and being set to 0.0 due to no predicted samples. Use `zero_division` parameter to control this behavior.\n",
      "  _warn_prf(average, modifier, msg_start, len(result))\n",
      "/usr/local/lib/python3.8/dist-packages/sklearn/metrics/_classification.py:1318: UndefinedMetricWarning: Precision is ill-defined and being set to 0.0 due to no predicted samples. Use `zero_division` parameter to control this behavior.\n",
      "  _warn_prf(average, modifier, msg_start, len(result))\n",
      "/usr/local/lib/python3.8/dist-packages/sklearn/metrics/_classification.py:1318: UndefinedMetricWarning: Precision is ill-defined and being set to 0.0 due to no predicted samples. Use `zero_division` parameter to control this behavior.\n",
      "  _warn_prf(average, modifier, msg_start, len(result))\n",
      "/usr/local/lib/python3.8/dist-packages/sklearn/metrics/_classification.py:1318: UndefinedMetricWarning: Precision is ill-defined and being set to 0.0 due to no predicted samples. Use `zero_division` parameter to control this behavior.\n",
      "  _warn_prf(average, modifier, msg_start, len(result))\n",
      "/usr/local/lib/python3.8/dist-packages/sklearn/metrics/_classification.py:1318: UndefinedMetricWarning: Precision is ill-defined and being set to 0.0 due to no predicted samples. Use `zero_division` parameter to control this behavior.\n",
      "  _warn_prf(average, modifier, msg_start, len(result))\n",
      "/usr/local/lib/python3.8/dist-packages/sklearn/metrics/_classification.py:1318: UndefinedMetricWarning: Precision is ill-defined and being set to 0.0 due to no predicted samples. Use `zero_division` parameter to control this behavior.\n",
      "  _warn_prf(average, modifier, msg_start, len(result))\n",
      "/usr/local/lib/python3.8/dist-packages/sklearn/metrics/_classification.py:1318: UndefinedMetricWarning: Precision is ill-defined and being set to 0.0 due to no predicted samples. Use `zero_division` parameter to control this behavior.\n",
      "  _warn_prf(average, modifier, msg_start, len(result))\n",
      "/usr/local/lib/python3.8/dist-packages/sklearn/metrics/_classification.py:1318: UndefinedMetricWarning: Precision is ill-defined and being set to 0.0 due to no predicted samples. Use `zero_division` parameter to control this behavior.\n",
      "  _warn_prf(average, modifier, msg_start, len(result))\n",
      "/usr/local/lib/python3.8/dist-packages/sklearn/metrics/_classification.py:1318: UndefinedMetricWarning: Precision is ill-defined and being set to 0.0 due to no predicted samples. Use `zero_division` parameter to control this behavior.\n",
      "  _warn_prf(average, modifier, msg_start, len(result))\n",
      "/usr/local/lib/python3.8/dist-packages/sklearn/metrics/_classification.py:1318: UndefinedMetricWarning: Precision is ill-defined and being set to 0.0 due to no predicted samples. Use `zero_division` parameter to control this behavior.\n",
      "  _warn_prf(average, modifier, msg_start, len(result))\n",
      "/usr/local/lib/python3.8/dist-packages/sklearn/metrics/_classification.py:1318: UndefinedMetricWarning: Precision is ill-defined and being set to 0.0 due to no predicted samples. Use `zero_division` parameter to control this behavior.\n",
      "  _warn_prf(average, modifier, msg_start, len(result))\n",
      "/usr/local/lib/python3.8/dist-packages/sklearn/metrics/_classification.py:1318: UndefinedMetricWarning: Precision is ill-defined and being set to 0.0 due to no predicted samples. Use `zero_division` parameter to control this behavior.\n",
      "  _warn_prf(average, modifier, msg_start, len(result))\n",
      "/usr/local/lib/python3.8/dist-packages/sklearn/metrics/_classification.py:1318: UndefinedMetricWarning: Precision is ill-defined and being set to 0.0 due to no predicted samples. Use `zero_division` parameter to control this behavior.\n",
      "  _warn_prf(average, modifier, msg_start, len(result))\n",
      "/usr/local/lib/python3.8/dist-packages/sklearn/metrics/_classification.py:1318: UndefinedMetricWarning: Precision is ill-defined and being set to 0.0 due to no predicted samples. Use `zero_division` parameter to control this behavior.\n",
      "  _warn_prf(average, modifier, msg_start, len(result))\n",
      "/usr/local/lib/python3.8/dist-packages/sklearn/metrics/_classification.py:1318: UndefinedMetricWarning: Precision is ill-defined and being set to 0.0 due to no predicted samples. Use `zero_division` parameter to control this behavior.\n",
      "  _warn_prf(average, modifier, msg_start, len(result))\n",
      "/usr/local/lib/python3.8/dist-packages/sklearn/metrics/_classification.py:1318: UndefinedMetricWarning: Precision is ill-defined and being set to 0.0 due to no predicted samples. Use `zero_division` parameter to control this behavior.\n",
      "  _warn_prf(average, modifier, msg_start, len(result))\n",
      "/usr/local/lib/python3.8/dist-packages/sklearn/metrics/_classification.py:1318: UndefinedMetricWarning: Precision is ill-defined and being set to 0.0 due to no predicted samples. Use `zero_division` parameter to control this behavior.\n",
      "  _warn_prf(average, modifier, msg_start, len(result))\n",
      "/usr/local/lib/python3.8/dist-packages/sklearn/metrics/_classification.py:1318: UndefinedMetricWarning: Precision is ill-defined and being set to 0.0 due to no predicted samples. Use `zero_division` parameter to control this behavior.\n",
      "  _warn_prf(average, modifier, msg_start, len(result))\n",
      "/usr/local/lib/python3.8/dist-packages/sklearn/metrics/_classification.py:1318: UndefinedMetricWarning: Precision is ill-defined and being set to 0.0 due to no predicted samples. Use `zero_division` parameter to control this behavior.\n",
      "  _warn_prf(average, modifier, msg_start, len(result))\n"
     ]
    },
    {
     "name": "stdout",
     "output_type": "stream",
     "text": [
      "- fit_time:\n",
      "-- 0.0014152765274047852 +- 0.0005617536252384838\n",
      "\n",
      "- score_time:\n",
      "-- 0.002981106440226237 +- 0.0006474202916341711\n",
      "\n",
      "- test_accuracy:\n",
      "-- 0.5967222709979513 +- 0.0015759920418889264\n",
      "\n",
      "- train_accuracy:\n",
      "-- 0.6001989131961876 +- 0.00022996515378907506\n",
      "\n",
      "- test_precision:\n",
      "-- 0.0 +- 0.0\n",
      "\n",
      "- train_precision:\n",
      "-- 1.0 +- 0.0\n",
      "\n",
      "- test_recall:\n",
      "-- 0.0 +- 0.0\n",
      "\n",
      "- train_recall:\n",
      "-- 0.008631332481907195 +- 0.0005396938716116429\n",
      "\n",
      "- test_f1:\n",
      "-- 0.0 +- 0.0\n",
      "\n",
      "- train_f1:\n",
      "-- 0.017114372129494796 +- 0.0010617097599013997\n",
      "\n"
     ]
    },
    {
     "name": "stderr",
     "output_type": "stream",
     "text": [
      "/usr/local/lib/python3.8/dist-packages/sklearn/metrics/_classification.py:1318: UndefinedMetricWarning: Precision is ill-defined and being set to 0.0 due to no predicted samples. Use `zero_division` parameter to control this behavior.\n",
      "  _warn_prf(average, modifier, msg_start, len(result))\n",
      "/usr/local/lib/python3.8/dist-packages/sklearn/metrics/_classification.py:1318: UndefinedMetricWarning: Precision is ill-defined and being set to 0.0 due to no predicted samples. Use `zero_division` parameter to control this behavior.\n",
      "  _warn_prf(average, modifier, msg_start, len(result))\n",
      "/usr/local/lib/python3.8/dist-packages/sklearn/metrics/_classification.py:1318: UndefinedMetricWarning: Precision is ill-defined and being set to 0.0 due to no predicted samples. Use `zero_division` parameter to control this behavior.\n",
      "  _warn_prf(average, modifier, msg_start, len(result))\n",
      "/usr/local/lib/python3.8/dist-packages/sklearn/metrics/_classification.py:1318: UndefinedMetricWarning: Precision is ill-defined and being set to 0.0 due to no predicted samples. Use `zero_division` parameter to control this behavior.\n",
      "  _warn_prf(average, modifier, msg_start, len(result))\n",
      "/usr/local/lib/python3.8/dist-packages/sklearn/metrics/_classification.py:1318: UndefinedMetricWarning: Precision is ill-defined and being set to 0.0 due to no predicted samples. Use `zero_division` parameter to control this behavior.\n",
      "  _warn_prf(average, modifier, msg_start, len(result))\n"
     ]
    }
   ],
   "source": [
    "metricas = cross_validate(NB_B, scaled_data, y, cv=CV, scoring=nome_metricas, return_train_score=True)\n",
    "for met in metricas:\n",
    "    print(f\"- {met}:\")\n",
    "    #print(f\"-- {metricas[met]}\")\n",
    "    print(f\"-- {np.mean(metricas[met])} +- {np.std(metricas[met])}\\n\")  "
   ]
  },
  {
   "cell_type": "markdown",
   "id": "07906ef0-8ca0-43bc-a921-a670bc2a19ff",
   "metadata": {},
   "source": [
    "##### Gaussian"
   ]
  },
  {
   "cell_type": "code",
   "execution_count": 15,
   "id": "1b642f6b-28b0-4317-a298-f65a4e8ec403",
   "metadata": {},
   "outputs": [
    {
     "name": "stdout",
     "output_type": "stream",
     "text": [
      "0.6295375435106912\n"
     ]
    }
   ],
   "source": [
    "NB_G = GaussianNB()\n",
    "NB_G.fit(scaled_data,y)\n",
    "y_pred = NB_G.predict(scaled_data)\n",
    "print(metrics.accuracy_score(y, y_pred))"
   ]
  },
  {
   "cell_type": "code",
   "execution_count": 16,
   "id": "43b6bf86-48a9-44b0-8b8e-c73eac58b619",
   "metadata": {
    "tags": []
   },
   "outputs": [
    {
     "name": "stdout",
     "output_type": "stream",
     "text": [
      "- fit_time:\n",
      "-- 0.0015912135442097983 +- 0.0004687406017426648\n",
      "\n",
      "- score_time:\n",
      "-- 0.002742632230122884 +- 0.0006079414919514327\n",
      "\n",
      "- test_accuracy:\n",
      "-- 0.6185908691834943 +- 0.07531592293090146\n",
      "\n",
      "- train_accuracy:\n",
      "-- 0.6286629679755047 +- 0.0030283090148628174\n",
      "\n",
      "- test_precision:\n",
      "-- 0.5983101185307068 +- 0.2178499459729446\n",
      "\n",
      "- train_precision:\n",
      "-- 0.5896167028294125 +- 0.007373069363544469\n",
      "\n",
      "- test_recall:\n",
      "-- 0.2500881834215167 +- 0.10144328906471368\n",
      "\n",
      "- train_recall:\n",
      "-- 0.2604273094934014 +- 0.009198243737082406\n",
      "\n",
      "- test_f1:\n",
      "-- 0.3416981351744458 +- 0.12344309821442831\n",
      "\n",
      "- train_f1:\n",
      "-- 0.36121399777780405 +- 0.009684890055735274\n",
      "\n"
     ]
    }
   ],
   "source": [
    "metricas = cross_validate(NB_G, scaled_data, y, cv=CV, scoring=nome_metricas, return_train_score=True)\n",
    "for met in metricas:\n",
    "    print(f\"- {met}:\")\n",
    "    #print(f\"-- {metricas[met]}\")\n",
    "    print(f\"-- {np.mean(metricas[met])} +- {np.std(metricas[met])}\\n\")  "
   ]
  },
  {
   "cell_type": "markdown",
   "id": "950b471b-9282-43ea-8185-5b050c2e68a3",
   "metadata": {},
   "source": [
    "##### Multinomial"
   ]
  },
  {
   "cell_type": "code",
   "execution_count": 17,
   "id": "d71654cf-b2fe-46fe-8c32-3791980953e2",
   "metadata": {},
   "outputs": [
    {
     "name": "stdout",
     "output_type": "stream",
     "text": [
      "0.5967180507210343\n"
     ]
    }
   ],
   "source": [
    "NB_M = MultinomialNB()\n",
    "NB_M.fit(scaled_data,y)\n",
    "y_pred = NB_M.predict(scaled_data)\n",
    "print(metrics.accuracy_score(y, y_pred))"
   ]
  },
  {
   "cell_type": "code",
   "execution_count": 18,
   "id": "864457a9-8a51-4aab-9a08-14c3583bd23e",
   "metadata": {
    "tags": []
   },
   "outputs": [
    {
     "name": "stderr",
     "output_type": "stream",
     "text": [
      "/usr/local/lib/python3.8/dist-packages/sklearn/metrics/_classification.py:1318: UndefinedMetricWarning: Precision is ill-defined and being set to 0.0 due to no predicted samples. Use `zero_division` parameter to control this behavior.\n",
      "  _warn_prf(average, modifier, msg_start, len(result))\n",
      "/usr/local/lib/python3.8/dist-packages/sklearn/metrics/_classification.py:1318: UndefinedMetricWarning: Precision is ill-defined and being set to 0.0 due to no predicted samples. Use `zero_division` parameter to control this behavior.\n",
      "  _warn_prf(average, modifier, msg_start, len(result))\n",
      "/usr/local/lib/python3.8/dist-packages/sklearn/metrics/_classification.py:1318: UndefinedMetricWarning: Precision is ill-defined and being set to 0.0 due to no predicted samples. Use `zero_division` parameter to control this behavior.\n",
      "  _warn_prf(average, modifier, msg_start, len(result))\n",
      "/usr/local/lib/python3.8/dist-packages/sklearn/metrics/_classification.py:1318: UndefinedMetricWarning: Precision is ill-defined and being set to 0.0 due to no predicted samples. Use `zero_division` parameter to control this behavior.\n",
      "  _warn_prf(average, modifier, msg_start, len(result))\n",
      "/usr/local/lib/python3.8/dist-packages/sklearn/metrics/_classification.py:1318: UndefinedMetricWarning: Precision is ill-defined and being set to 0.0 due to no predicted samples. Use `zero_division` parameter to control this behavior.\n",
      "  _warn_prf(average, modifier, msg_start, len(result))\n",
      "/usr/local/lib/python3.8/dist-packages/sklearn/metrics/_classification.py:1318: UndefinedMetricWarning: Precision is ill-defined and being set to 0.0 due to no predicted samples. Use `zero_division` parameter to control this behavior.\n",
      "  _warn_prf(average, modifier, msg_start, len(result))\n",
      "/usr/local/lib/python3.8/dist-packages/sklearn/metrics/_classification.py:1318: UndefinedMetricWarning: Precision is ill-defined and being set to 0.0 due to no predicted samples. Use `zero_division` parameter to control this behavior.\n",
      "  _warn_prf(average, modifier, msg_start, len(result))\n",
      "/usr/local/lib/python3.8/dist-packages/sklearn/metrics/_classification.py:1318: UndefinedMetricWarning: Precision is ill-defined and being set to 0.0 due to no predicted samples. Use `zero_division` parameter to control this behavior.\n",
      "  _warn_prf(average, modifier, msg_start, len(result))\n",
      "/usr/local/lib/python3.8/dist-packages/sklearn/metrics/_classification.py:1318: UndefinedMetricWarning: Precision is ill-defined and being set to 0.0 due to no predicted samples. Use `zero_division` parameter to control this behavior.\n",
      "  _warn_prf(average, modifier, msg_start, len(result))\n",
      "/usr/local/lib/python3.8/dist-packages/sklearn/metrics/_classification.py:1318: UndefinedMetricWarning: Precision is ill-defined and being set to 0.0 due to no predicted samples. Use `zero_division` parameter to control this behavior.\n",
      "  _warn_prf(average, modifier, msg_start, len(result))\n",
      "/usr/local/lib/python3.8/dist-packages/sklearn/metrics/_classification.py:1318: UndefinedMetricWarning: Precision is ill-defined and being set to 0.0 due to no predicted samples. Use `zero_division` parameter to control this behavior.\n",
      "  _warn_prf(average, modifier, msg_start, len(result))\n",
      "/usr/local/lib/python3.8/dist-packages/sklearn/metrics/_classification.py:1318: UndefinedMetricWarning: Precision is ill-defined and being set to 0.0 due to no predicted samples. Use `zero_division` parameter to control this behavior.\n",
      "  _warn_prf(average, modifier, msg_start, len(result))\n",
      "/usr/local/lib/python3.8/dist-packages/sklearn/metrics/_classification.py:1318: UndefinedMetricWarning: Precision is ill-defined and being set to 0.0 due to no predicted samples. Use `zero_division` parameter to control this behavior.\n",
      "  _warn_prf(average, modifier, msg_start, len(result))\n",
      "/usr/local/lib/python3.8/dist-packages/sklearn/metrics/_classification.py:1318: UndefinedMetricWarning: Precision is ill-defined and being set to 0.0 due to no predicted samples. Use `zero_division` parameter to control this behavior.\n",
      "  _warn_prf(average, modifier, msg_start, len(result))\n",
      "/usr/local/lib/python3.8/dist-packages/sklearn/metrics/_classification.py:1318: UndefinedMetricWarning: Precision is ill-defined and being set to 0.0 due to no predicted samples. Use `zero_division` parameter to control this behavior.\n",
      "  _warn_prf(average, modifier, msg_start, len(result))\n",
      "/usr/local/lib/python3.8/dist-packages/sklearn/metrics/_classification.py:1318: UndefinedMetricWarning: Precision is ill-defined and being set to 0.0 due to no predicted samples. Use `zero_division` parameter to control this behavior.\n",
      "  _warn_prf(average, modifier, msg_start, len(result))\n",
      "/usr/local/lib/python3.8/dist-packages/sklearn/metrics/_classification.py:1318: UndefinedMetricWarning: Precision is ill-defined and being set to 0.0 due to no predicted samples. Use `zero_division` parameter to control this behavior.\n",
      "  _warn_prf(average, modifier, msg_start, len(result))\n",
      "/usr/local/lib/python3.8/dist-packages/sklearn/metrics/_classification.py:1318: UndefinedMetricWarning: Precision is ill-defined and being set to 0.0 due to no predicted samples. Use `zero_division` parameter to control this behavior.\n",
      "  _warn_prf(average, modifier, msg_start, len(result))\n",
      "/usr/local/lib/python3.8/dist-packages/sklearn/metrics/_classification.py:1318: UndefinedMetricWarning: Precision is ill-defined and being set to 0.0 due to no predicted samples. Use `zero_division` parameter to control this behavior.\n",
      "  _warn_prf(average, modifier, msg_start, len(result))\n",
      "/usr/local/lib/python3.8/dist-packages/sklearn/metrics/_classification.py:1318: UndefinedMetricWarning: Precision is ill-defined and being set to 0.0 due to no predicted samples. Use `zero_division` parameter to control this behavior.\n",
      "  _warn_prf(average, modifier, msg_start, len(result))\n",
      "/usr/local/lib/python3.8/dist-packages/sklearn/metrics/_classification.py:1318: UndefinedMetricWarning: Precision is ill-defined and being set to 0.0 due to no predicted samples. Use `zero_division` parameter to control this behavior.\n",
      "  _warn_prf(average, modifier, msg_start, len(result))\n",
      "/usr/local/lib/python3.8/dist-packages/sklearn/metrics/_classification.py:1318: UndefinedMetricWarning: Precision is ill-defined and being set to 0.0 due to no predicted samples. Use `zero_division` parameter to control this behavior.\n",
      "  _warn_prf(average, modifier, msg_start, len(result))\n",
      "/usr/local/lib/python3.8/dist-packages/sklearn/metrics/_classification.py:1318: UndefinedMetricWarning: Precision is ill-defined and being set to 0.0 due to no predicted samples. Use `zero_division` parameter to control this behavior.\n",
      "  _warn_prf(average, modifier, msg_start, len(result))\n",
      "/usr/local/lib/python3.8/dist-packages/sklearn/metrics/_classification.py:1318: UndefinedMetricWarning: Precision is ill-defined and being set to 0.0 due to no predicted samples. Use `zero_division` parameter to control this behavior.\n",
      "  _warn_prf(average, modifier, msg_start, len(result))\n",
      "/usr/local/lib/python3.8/dist-packages/sklearn/metrics/_classification.py:1318: UndefinedMetricWarning: Precision is ill-defined and being set to 0.0 due to no predicted samples. Use `zero_division` parameter to control this behavior.\n",
      "  _warn_prf(average, modifier, msg_start, len(result))\n",
      "/usr/local/lib/python3.8/dist-packages/sklearn/metrics/_classification.py:1318: UndefinedMetricWarning: Precision is ill-defined and being set to 0.0 due to no predicted samples. Use `zero_division` parameter to control this behavior.\n",
      "  _warn_prf(average, modifier, msg_start, len(result))\n",
      "/usr/local/lib/python3.8/dist-packages/sklearn/metrics/_classification.py:1318: UndefinedMetricWarning: Precision is ill-defined and being set to 0.0 due to no predicted samples. Use `zero_division` parameter to control this behavior.\n",
      "  _warn_prf(average, modifier, msg_start, len(result))\n",
      "/usr/local/lib/python3.8/dist-packages/sklearn/metrics/_classification.py:1318: UndefinedMetricWarning: Precision is ill-defined and being set to 0.0 due to no predicted samples. Use `zero_division` parameter to control this behavior.\n",
      "  _warn_prf(average, modifier, msg_start, len(result))\n",
      "/usr/local/lib/python3.8/dist-packages/sklearn/metrics/_classification.py:1318: UndefinedMetricWarning: Precision is ill-defined and being set to 0.0 due to no predicted samples. Use `zero_division` parameter to control this behavior.\n",
      "  _warn_prf(average, modifier, msg_start, len(result))\n",
      "/usr/local/lib/python3.8/dist-packages/sklearn/metrics/_classification.py:1318: UndefinedMetricWarning: Precision is ill-defined and being set to 0.0 due to no predicted samples. Use `zero_division` parameter to control this behavior.\n",
      "  _warn_prf(average, modifier, msg_start, len(result))\n",
      "/usr/local/lib/python3.8/dist-packages/sklearn/metrics/_classification.py:1318: UndefinedMetricWarning: Precision is ill-defined and being set to 0.0 due to no predicted samples. Use `zero_division` parameter to control this behavior.\n",
      "  _warn_prf(average, modifier, msg_start, len(result))\n",
      "/usr/local/lib/python3.8/dist-packages/sklearn/metrics/_classification.py:1318: UndefinedMetricWarning: Precision is ill-defined and being set to 0.0 due to no predicted samples. Use `zero_division` parameter to control this behavior.\n",
      "  _warn_prf(average, modifier, msg_start, len(result))\n",
      "/usr/local/lib/python3.8/dist-packages/sklearn/metrics/_classification.py:1318: UndefinedMetricWarning: Precision is ill-defined and being set to 0.0 due to no predicted samples. Use `zero_division` parameter to control this behavior.\n",
      "  _warn_prf(average, modifier, msg_start, len(result))\n",
      "/usr/local/lib/python3.8/dist-packages/sklearn/metrics/_classification.py:1318: UndefinedMetricWarning: Precision is ill-defined and being set to 0.0 due to no predicted samples. Use `zero_division` parameter to control this behavior.\n",
      "  _warn_prf(average, modifier, msg_start, len(result))\n",
      "/usr/local/lib/python3.8/dist-packages/sklearn/metrics/_classification.py:1318: UndefinedMetricWarning: Precision is ill-defined and being set to 0.0 due to no predicted samples. Use `zero_division` parameter to control this behavior.\n",
      "  _warn_prf(average, modifier, msg_start, len(result))\n",
      "/usr/local/lib/python3.8/dist-packages/sklearn/metrics/_classification.py:1318: UndefinedMetricWarning: Precision is ill-defined and being set to 0.0 due to no predicted samples. Use `zero_division` parameter to control this behavior.\n",
      "  _warn_prf(average, modifier, msg_start, len(result))\n",
      "/usr/local/lib/python3.8/dist-packages/sklearn/metrics/_classification.py:1318: UndefinedMetricWarning: Precision is ill-defined and being set to 0.0 due to no predicted samples. Use `zero_division` parameter to control this behavior.\n",
      "  _warn_prf(average, modifier, msg_start, len(result))\n",
      "/usr/local/lib/python3.8/dist-packages/sklearn/metrics/_classification.py:1318: UndefinedMetricWarning: Precision is ill-defined and being set to 0.0 due to no predicted samples. Use `zero_division` parameter to control this behavior.\n",
      "  _warn_prf(average, modifier, msg_start, len(result))\n",
      "/usr/local/lib/python3.8/dist-packages/sklearn/metrics/_classification.py:1318: UndefinedMetricWarning: Precision is ill-defined and being set to 0.0 due to no predicted samples. Use `zero_division` parameter to control this behavior.\n",
      "  _warn_prf(average, modifier, msg_start, len(result))\n",
      "/usr/local/lib/python3.8/dist-packages/sklearn/metrics/_classification.py:1318: UndefinedMetricWarning: Precision is ill-defined and being set to 0.0 due to no predicted samples. Use `zero_division` parameter to control this behavior.\n",
      "  _warn_prf(average, modifier, msg_start, len(result))\n",
      "/usr/local/lib/python3.8/dist-packages/sklearn/metrics/_classification.py:1318: UndefinedMetricWarning: Precision is ill-defined and being set to 0.0 due to no predicted samples. Use `zero_division` parameter to control this behavior.\n",
      "  _warn_prf(average, modifier, msg_start, len(result))\n",
      "/usr/local/lib/python3.8/dist-packages/sklearn/metrics/_classification.py:1318: UndefinedMetricWarning: Precision is ill-defined and being set to 0.0 due to no predicted samples. Use `zero_division` parameter to control this behavior.\n",
      "  _warn_prf(average, modifier, msg_start, len(result))\n",
      "/usr/local/lib/python3.8/dist-packages/sklearn/metrics/_classification.py:1318: UndefinedMetricWarning: Precision is ill-defined and being set to 0.0 due to no predicted samples. Use `zero_division` parameter to control this behavior.\n",
      "  _warn_prf(average, modifier, msg_start, len(result))\n",
      "/usr/local/lib/python3.8/dist-packages/sklearn/metrics/_classification.py:1318: UndefinedMetricWarning: Precision is ill-defined and being set to 0.0 due to no predicted samples. Use `zero_division` parameter to control this behavior.\n",
      "  _warn_prf(average, modifier, msg_start, len(result))\n",
      "/usr/local/lib/python3.8/dist-packages/sklearn/metrics/_classification.py:1318: UndefinedMetricWarning: Precision is ill-defined and being set to 0.0 due to no predicted samples. Use `zero_division` parameter to control this behavior.\n",
      "  _warn_prf(average, modifier, msg_start, len(result))\n",
      "/usr/local/lib/python3.8/dist-packages/sklearn/metrics/_classification.py:1318: UndefinedMetricWarning: Precision is ill-defined and being set to 0.0 due to no predicted samples. Use `zero_division` parameter to control this behavior.\n",
      "  _warn_prf(average, modifier, msg_start, len(result))\n",
      "/usr/local/lib/python3.8/dist-packages/sklearn/metrics/_classification.py:1318: UndefinedMetricWarning: Precision is ill-defined and being set to 0.0 due to no predicted samples. Use `zero_division` parameter to control this behavior.\n",
      "  _warn_prf(average, modifier, msg_start, len(result))\n",
      "/usr/local/lib/python3.8/dist-packages/sklearn/metrics/_classification.py:1318: UndefinedMetricWarning: Precision is ill-defined and being set to 0.0 due to no predicted samples. Use `zero_division` parameter to control this behavior.\n",
      "  _warn_prf(average, modifier, msg_start, len(result))\n",
      "/usr/local/lib/python3.8/dist-packages/sklearn/metrics/_classification.py:1318: UndefinedMetricWarning: Precision is ill-defined and being set to 0.0 due to no predicted samples. Use `zero_division` parameter to control this behavior.\n",
      "  _warn_prf(average, modifier, msg_start, len(result))\n",
      "/usr/local/lib/python3.8/dist-packages/sklearn/metrics/_classification.py:1318: UndefinedMetricWarning: Precision is ill-defined and being set to 0.0 due to no predicted samples. Use `zero_division` parameter to control this behavior.\n",
      "  _warn_prf(average, modifier, msg_start, len(result))\n"
     ]
    },
    {
     "name": "stdout",
     "output_type": "stream",
     "text": [
      "- fit_time:\n",
      "-- 0.0012503941853841147 +- 0.0004637668075694193\n",
      "\n",
      "- score_time:\n",
      "-- 0.002997883160909017 +- 0.0004480417883913538\n",
      "\n",
      "- test_accuracy:\n",
      "-- 0.5967222709979513 +- 0.0015759920418889264\n",
      "\n",
      "- train_accuracy:\n",
      "-- 0.5967180558114776 +- 5.512729364632067e-05\n",
      "\n",
      "- test_precision:\n",
      "-- 0.0 +- 0.0\n",
      "\n",
      "- train_precision:\n",
      "-- 0.0 +- 0.0\n",
      "\n",
      "- test_recall:\n",
      "-- 0.0 +- 0.0\n",
      "\n",
      "- train_recall:\n",
      "-- 0.0 +- 0.0\n",
      "\n",
      "- test_f1:\n",
      "-- 0.0 +- 0.0\n",
      "\n",
      "- train_f1:\n",
      "-- 0.0 +- 0.0\n",
      "\n"
     ]
    },
    {
     "name": "stderr",
     "output_type": "stream",
     "text": [
      "/usr/local/lib/python3.8/dist-packages/sklearn/metrics/_classification.py:1318: UndefinedMetricWarning: Precision is ill-defined and being set to 0.0 due to no predicted samples. Use `zero_division` parameter to control this behavior.\n",
      "  _warn_prf(average, modifier, msg_start, len(result))\n",
      "/usr/local/lib/python3.8/dist-packages/sklearn/metrics/_classification.py:1318: UndefinedMetricWarning: Precision is ill-defined and being set to 0.0 due to no predicted samples. Use `zero_division` parameter to control this behavior.\n",
      "  _warn_prf(average, modifier, msg_start, len(result))\n",
      "/usr/local/lib/python3.8/dist-packages/sklearn/metrics/_classification.py:1318: UndefinedMetricWarning: Precision is ill-defined and being set to 0.0 due to no predicted samples. Use `zero_division` parameter to control this behavior.\n",
      "  _warn_prf(average, modifier, msg_start, len(result))\n",
      "/usr/local/lib/python3.8/dist-packages/sklearn/metrics/_classification.py:1318: UndefinedMetricWarning: Precision is ill-defined and being set to 0.0 due to no predicted samples. Use `zero_division` parameter to control this behavior.\n",
      "  _warn_prf(average, modifier, msg_start, len(result))\n",
      "/usr/local/lib/python3.8/dist-packages/sklearn/metrics/_classification.py:1318: UndefinedMetricWarning: Precision is ill-defined and being set to 0.0 due to no predicted samples. Use `zero_division` parameter to control this behavior.\n",
      "  _warn_prf(average, modifier, msg_start, len(result))\n",
      "/usr/local/lib/python3.8/dist-packages/sklearn/metrics/_classification.py:1318: UndefinedMetricWarning: Precision is ill-defined and being set to 0.0 due to no predicted samples. Use `zero_division` parameter to control this behavior.\n",
      "  _warn_prf(average, modifier, msg_start, len(result))\n",
      "/usr/local/lib/python3.8/dist-packages/sklearn/metrics/_classification.py:1318: UndefinedMetricWarning: Precision is ill-defined and being set to 0.0 due to no predicted samples. Use `zero_division` parameter to control this behavior.\n",
      "  _warn_prf(average, modifier, msg_start, len(result))\n",
      "/usr/local/lib/python3.8/dist-packages/sklearn/metrics/_classification.py:1318: UndefinedMetricWarning: Precision is ill-defined and being set to 0.0 due to no predicted samples. Use `zero_division` parameter to control this behavior.\n",
      "  _warn_prf(average, modifier, msg_start, len(result))\n",
      "/usr/local/lib/python3.8/dist-packages/sklearn/metrics/_classification.py:1318: UndefinedMetricWarning: Precision is ill-defined and being set to 0.0 due to no predicted samples. Use `zero_division` parameter to control this behavior.\n",
      "  _warn_prf(average, modifier, msg_start, len(result))\n",
      "/usr/local/lib/python3.8/dist-packages/sklearn/metrics/_classification.py:1318: UndefinedMetricWarning: Precision is ill-defined and being set to 0.0 due to no predicted samples. Use `zero_division` parameter to control this behavior.\n",
      "  _warn_prf(average, modifier, msg_start, len(result))\n"
     ]
    }
   ],
   "source": [
    "metricas = cross_validate(NB_M, scaled_data, y, cv=CV, scoring=nome_metricas, return_train_score=True)\n",
    "for met in metricas:\n",
    "    print(f\"- {met}:\")\n",
    "    #print(f\"-- {metricas[met]}\")\n",
    "    print(f\"-- {np.mean(metricas[met])} +- {np.std(metricas[met])}\\n\")"
   ]
  },
  {
   "cell_type": "markdown",
   "id": "8ce8f166-fda7-482c-ae20-4c2f6fcaba13",
   "metadata": {},
   "source": [
    "#### Decision Tree"
   ]
  },
  {
   "cell_type": "code",
   "execution_count": 19,
   "id": "6cf487ab-d25d-4b4f-808b-553aba0d2612",
   "metadata": {},
   "outputs": [],
   "source": [
    "from sklearn.tree import DecisionTreeClassifier # Import Decision Tree Classifier\n",
    "from sklearn import tree"
   ]
  },
  {
   "cell_type": "code",
   "execution_count": 20,
   "id": "11b6aee2-f55f-4754-8be5-a044e683a896",
   "metadata": {},
   "outputs": [
    {
     "name": "stdout",
     "output_type": "stream",
     "text": [
      "1.0\n"
     ]
    }
   ],
   "source": [
    "DT = DecisionTreeClassifier(criterion='gini')\n",
    "DT.fit(X,y)\n",
    "y_pred = DT.predict(X)\n",
    "print(metrics.accuracy_score(y, y_pred))"
   ]
  },
  {
   "cell_type": "markdown",
   "id": "770c4826-1f34-4dab-b422-68ce2e8408d3",
   "metadata": {
    "tags": []
   },
   "source": [
    "##### Gini"
   ]
  },
  {
   "cell_type": "code",
   "execution_count": 21,
   "id": "285a8358-6a7e-4e1e-b762-1017447b13f0",
   "metadata": {
    "tags": []
   },
   "outputs": [
    {
     "name": "stdout",
     "output_type": "stream",
     "text": [
      "- fit_time:\n",
      "-- 0.023453879356384277 +- 0.002093847427371584\n",
      "\n",
      "- score_time:\n",
      "-- 0.002150758107503255 +- 0.00010677119280809853\n",
      "\n",
      "- test_accuracy:\n",
      "-- 0.5912350014632719 +- 0.05897643732466307\n",
      "\n",
      "- train_accuracy:\n",
      "-- 1.0 +- 0.0\n",
      "\n",
      "- test_precision:\n",
      "-- 0.49394119271360093 +- 0.07322607491338348\n",
      "\n",
      "- train_precision:\n",
      "-- 1.0 +- 0.0\n",
      "\n",
      "- test_recall:\n",
      "-- 0.49929453262786594 +- 0.09393070230712855\n",
      "\n",
      "- train_recall:\n",
      "-- 1.0 +- 0.0\n",
      "\n",
      "- test_f1:\n",
      "-- 0.4945823971840066 +- 0.07703130096253659\n",
      "\n",
      "- train_f1:\n",
      "-- 1.0 +- 0.0\n",
      "\n"
     ]
    }
   ],
   "source": [
    "metricas = cross_validate(DT, X, y, cv=CV, scoring=nome_metricas, return_train_score=True,return_estimator=True)\n",
    "DT_G = metricas['estimator'][-1]\n",
    "for met in metricas:\n",
    "    if met != 'estimator':\n",
    "        print(f\"- {met}:\")\n",
    "        #print(f\"-- {metricas[met]}\")\n",
    "        print(f\"-- {np.mean(metricas[met])} +- {np.std(metricas[met])}\\n\")"
   ]
  },
  {
   "cell_type": "markdown",
   "id": "08d8d52a-7a00-43e4-b01b-fa364455c17f",
   "metadata": {
    "tags": []
   },
   "source": [
    "##### Entropia"
   ]
  },
  {
   "cell_type": "code",
   "execution_count": 22,
   "id": "8eb7aec1-4c31-46b7-974d-74a9f7bdaeef",
   "metadata": {
    "tags": []
   },
   "outputs": [
    {
     "name": "stdout",
     "output_type": "stream",
     "text": [
      "1.0\n"
     ]
    }
   ],
   "source": [
    "DT = DecisionTreeClassifier(criterion='entropy')\n",
    "DT.fit(X,y)\n",
    "y_pred = DT.predict(X)\n",
    "print(metrics.accuracy_score(y, y_pred))"
   ]
  },
  {
   "cell_type": "code",
   "execution_count": 23,
   "id": "4e2bac68-2b03-4220-95bf-3e8abd57b79a",
   "metadata": {
    "tags": []
   },
   "outputs": [
    {
     "name": "stdout",
     "output_type": "stream",
     "text": [
      "- fit_time:\n",
      "-- 0.033218002319335936 +- 0.0032698976856255155\n",
      "\n",
      "- score_time:\n",
      "-- 0.0022753477096557617 +- 0.00020223615947838932\n",
      "\n",
      "- test_accuracy:\n",
      "-- 0.5837576821773485 +- 0.0667245621706268\n",
      "\n",
      "- train_accuracy:\n",
      "-- 1.0 +- 0.0\n",
      "\n",
      "- test_precision:\n",
      "-- 0.48729693950962155 +- 0.07947997857409392\n",
      "\n",
      "- train_precision:\n",
      "-- 1.0 +- 0.0\n",
      "\n",
      "- test_recall:\n",
      "-- 0.5201058201058201 +- 0.09842929066856829\n",
      "\n",
      "- train_recall:\n",
      "-- 1.0 +- 0.0\n",
      "\n",
      "- test_f1:\n",
      "-- 0.5004946625876018 +- 0.08145294835387035\n",
      "\n",
      "- train_f1:\n",
      "-- 1.0 +- 0.0\n",
      "\n"
     ]
    }
   ],
   "source": [
    "DT = DecisionTreeClassifier(criterion='entropy')\n",
    "metricas = cross_validate(DT, X, y, cv=CV, scoring=nome_metricas, return_train_score=True)\n",
    "for met in metricas:\n",
    "    print(f\"- {met}:\")\n",
    "    #print(f\"-- {metricas[met]}\")\n",
    "    print(f\"-- {np.mean(metricas[met])} +- {np.std(metricas[met])}\\n\")"
   ]
  },
  {
   "cell_type": "markdown",
   "id": "95fa2a9e-a7bc-4414-ae3e-8daad7e1ec8c",
   "metadata": {},
   "source": [
    "## 4 Resultados \n",
    "Apresente aqui os resultados encontrados na avaliação de cada experimento, considerando as métricas descritas no trabalho (acurácia, precisão, recall e F-Score) e as análises ROC realizadas."
   ]
  },
  {
   "cell_type": "markdown",
   "id": "27e4efa7-71da-4abc-a3bb-94b60e0723e7",
   "metadata": {},
   "source": [
    "Como os resultados ja foram mostrados acima aqui mostrarei a analise roc dos melhores modelos de cada tecnica"
   ]
  },
  {
   "cell_type": "code",
   "execution_count": 24,
   "id": "9ac967e0-02d5-4945-b6ab-7b69e3feea40",
   "metadata": {},
   "outputs": [],
   "source": [
    "from sklearn.metrics import roc_curve\n",
    "import seaborn as sns"
   ]
  },
  {
   "cell_type": "markdown",
   "id": "0ed66fb0-ef4f-4b5e-b1c1-3cada2d290eb",
   "metadata": {},
   "source": [
    "#### KNN, K=1, distancia euclideana"
   ]
  },
  {
   "cell_type": "code",
   "execution_count": 25,
   "id": "5a1ea9a0-f280-4ff8-8963-147c4602b90f",
   "metadata": {},
   "outputs": [
    {
     "data": {
      "image/png": "[encoded data removed]",
      "text/plain": [
       "<Figure size 432x288 with 1 Axes>"
      ]
     },
     "metadata": {
      "needs_background": "light"
     },
     "output_type": "display_data"
    }
   ],
   "source": [
    "knn = KNeighborsClassifier(n_neighbors=1)\n",
    "knn.fit(X,y)\n",
    "prob = knn.predict_proba(X)\n",
    "prob = prob[:, 1]\n",
    "fper, tper, thresholds = roc_curve(y, prob)\n",
    "plot_roc_curve(fper, tper)"
   ]
  },
  {
   "cell_type": "markdown",
   "id": "badb7b6f-2ad8-4c02-8352-f69fc65eff85",
   "metadata": {},
   "source": [
    "#### Naive"
   ]
  },
  {
   "cell_type": "markdown",
   "id": "8741b1b4-ba6f-4603-b72a-c01af00947db",
   "metadata": {},
   "source": [
    "##### Bernoulli"
   ]
  },
  {
   "cell_type": "code",
   "execution_count": 26,
   "id": "6a807465-8ad3-4131-aec1-054dbd766162",
   "metadata": {},
   "outputs": [
    {
     "data": {
      "image/png": "[encoded data removed]",
      "text/plain": [
       "<Figure size 432x288 with 1 Axes>"
      ]
     },
     "metadata": {
      "needs_background": "light"
     },
     "output_type": "display_data"
    }
   ],
   "source": [
    "prob = NB_B.predict_proba(scaled_data)\n",
    "prob = prob[:, 1]\n",
    "fper, tper, thresholds = roc_curve(y, prob)\n",
    "plot_roc_curve(fper, tper)"
   ]
  },
  {
   "cell_type": "markdown",
   "id": "06c2bd52-481b-4f80-8885-4d0adfef3abc",
   "metadata": {},
   "source": [
    "##### Gaussian"
   ]
  },
  {
   "cell_type": "code",
   "execution_count": 27,
   "id": "625a9a6b-466b-44b1-be3b-60d9111f8547",
   "metadata": {},
   "outputs": [
    {
     "data": {
      "image/png": "[encoded data removed]",
      "text/plain": [
       "<Figure size 432x288 with 1 Axes>"
      ]
     },
     "metadata": {
      "needs_background": "light"
     },
     "output_type": "display_data"
    }
   ],
   "source": [
    "prob = NB_G.predict_proba(scaled_data)\n",
    "prob = prob[:, 1]\n",
    "fper, tper, thresholds = roc_curve(y, prob)\n",
    "plot_roc_curve(fper, tper)"
   ]
  },
  {
   "cell_type": "markdown",
   "id": "81ce736d-a94e-4d3b-aa28-20779be33f5f",
   "metadata": {},
   "source": [
    "##### Multinomial"
   ]
  },
  {
   "cell_type": "code",
   "execution_count": 28,
   "id": "703c7058-4f61-43fa-9585-4518ba2ad49a",
   "metadata": {},
   "outputs": [
    {
     "data": {
      "image/png": "[encoded data removed]",
      "text/plain": [
       "<Figure size 432x288 with 1 Axes>"
      ]
     },
     "metadata": {
      "needs_background": "light"
     },
     "output_type": "display_data"
    }
   ],
   "source": [
    "prob = NB_M.predict_proba(scaled_data)\n",
    "prob = prob[:, 1]\n",
    "fper, tper, thresholds = roc_curve(y, prob)\n",
    "plot_roc_curve(fper, tper)"
   ]
  },
  {
   "cell_type": "markdown",
   "id": "b0d82a6b-f008-44c9-8004-06dc39e2e216",
   "metadata": {},
   "source": [
    "#### Decision"
   ]
  },
  {
   "cell_type": "code",
   "execution_count": 29,
   "id": "1c5758ce-1540-4b26-b16f-4ec1bc95453a",
   "metadata": {},
   "outputs": [
    {
     "data": {
      "image/png": "[encoded data removed]",
      "text/plain": [
       "<Figure size 432x288 with 1 Axes>"
      ]
     },
     "metadata": {
      "needs_background": "light"
     },
     "output_type": "display_data"
    }
   ],
   "source": [
    "prob = DT_G.predict_proba(X)\n",
    "prob = prob[:, 1]\n",
    "fper, tper, thresholds = roc_curve(y, prob)\n",
    "plot_roc_curve(fper, tper)"
   ]
  },
  {
   "cell_type": "markdown",
   "id": "8f23c67f-b0ea-44b2-9ad3-259550b49cbe",
   "metadata": {},
   "source": [
    "## 5 Comparação entre os Modelos \n",
    "Apresente aqui uma comparação entre os modelos, considerando a base de dados utilizada no trabalho.\n",
    "\n",
    "Os melhores resultados foram obtidos com a decision tree e o KNN, o naive bayes (algumas metricas foram configuradas pra zero por causa de divisões por 0), não teve bons resultados com baixa acuracia (o que se saiu melhor foi gaussiano, ja que Bernoulli e Multinomial não são adequados a esse tipo de problema), curva roc com pouca area sobre ela em contraste com a decision tree e KNN que conseguiram otimos, no caso da KNN o melhor resultado so foi possivel com todos os dados e com k=1, retirar dados do treino afeta bastante a performaçe do modelo, ja no caso da decision tree a retirada de dados do treino tambem afeta a performaçe do modelo especificamente no teste, o que indica overfitting, algo comum a arvores de decisão. A diferença entre gini e entropia foi pouca, com gini tendo um resultado ligeiramente melhor. Ao final fica claro (tambem baseado na vizualização em baixa dimensão do exercicio de redução de dimensionalidade) que as classes estão bem sobrepostas o que faz com que algoritmos com boa capacidade de separação de classes como a decision tree tenha melhores resultados, mais esses modelos tendem a ter mais overfitting (o que pode ser visto nos bons resultados durante o treino mais resultados ruins durante o teste), logo talvez a utilização de uma random forest para reduzir os efeitos do overfitting pode ser uma boa opção.  \n",
    "Outra possivel solução seria a poda da arvore. O processo de treino busca selecionar a arvore que melhor separa as classes mais, essas arvores tendem crescer muito e a presentar overfitting, neste caso uma tecnica para resolver esse problema é a poda. Uma forma de fazer isso é julgar as arvores adicionando uma penalidade de complexidade a taxa de acerto. O termo de penalidade favorece árvores menores e, portanto, equilibra com o treino simples que favorece arvores maiores, essa é a ideia por tras da [poda de complexidade de custo mínimo](https://online.stat.psu.edu/stat508/lesson/11/11.8/11.8.2) (Minimal Cost-Complexity Pruning), essa tecnica usa o \"corte do elo mais fraco\", que funciona adicionando um alpha que é um parametro usado para dar peso a penalidade do tamanho da arvore que pode ser calculada por (alpha * numero de folhas) (alpha é um parametro que pode ser encontrado usando cross validation)."
   ]
  },
  {
   "cell_type": "markdown",
   "id": "2973a889-cdda-414e-b117-2908c18b027d",
   "metadata": {},
   "source": [
    "## Referências \n",
    "[1] [An Empirical Comparison of Supervised Learning Algorithms](http://www.cs.cornell.edu/~caruana/ctp/ct.papers/caruana.icml06.pdf)\n",
    "\n",
    "[2] Doing Data Science, Straight Talk from the Frontline - Rachel Schutt and Cathy O’Neil\n",
    "\n",
    "[3] https://online.stat.psu.edu/stat508/lesson/11/11.8/11.8.2\n",
    "\n",
    "[4] [An Introduction to Kernel and Nearest Neighbor Nonparametric Regression](https://ecommons.cornell.edu/bitstream/handle/1813/31637/BU-1065-MA.pdf;jsessionid=5696C28B5410BB8B19E5B5BF365EC2F2?sequence=1)"
   ]
  },
  {
   "cell_type": "code",
   "execution_count": null,
   "id": "cdad6288-7ae6-4855-a9eb-1de465852a0b",
   "metadata": {},
   "outputs": [],
   "source": []
  }
 ],
 "metadata": {
  "kernelspec": {
   "display_name": "Python 3",
   "language": "python",
   "name": "python3"
  },
  "language_info": {
   "codemirror_mode": {
    "name": "ipython",
    "version": 3
   },
   "file_extension": ".py",
   "mimetype": "text/x-python",
   "name": "python",
   "nbconvert_exporter": "python",
   "pygments_lexer": "ipython3",
   "version": "3.8.10"
  },
  "widgets": {
   "application/vnd.jupyter.widget-state+json": {
    "state": {},
    "version_major": 2,
    "version_minor": 0
   }
  }
 },
 "nbformat": 4,
 "nbformat_minor": 5
}
