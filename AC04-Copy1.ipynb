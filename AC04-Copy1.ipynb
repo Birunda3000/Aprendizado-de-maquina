{
 "cells": [
  {
   "cell_type": "markdown",
   "metadata": {
    "id": "pHKXqsyzSk-1"
   },
   "source": [
    "# Atividade Complementar  – Aprendizado de Máquina – 2022.1\n",
    "## Professora Ana Luiza Bessa de Paula Barros\n",
    "## Ciência da computação - UECE"
   ]
  },
  {
   "cell_type": "markdown",
   "metadata": {
    "id": "TNLzrVoGV_Ge"
   },
   "source": [
    "Aluno: Erick Santos do Nascimento\n",
    "\n",
    "Matrícula: 1440434"
   ]
  },
  {
   "cell_type": "markdown",
   "metadata": {
    "id": "djJaijz0S3AX"
   },
   "source": [
    "Usaremos o dataset *BIKE DETAILS.csv* do site Kaggle.\n",
    "\n",
    "[Motorcycle Dataset](https://www.kaggle.com/nehalbirla/motorcycle-dataset)"
   ]
  },
  {
   "cell_type": "markdown",
   "metadata": {
    "id": "jt_t4d30WFhP"
   },
   "source": [
    "1 - Carregue o dataset no seu ambiente e mostre as 5 primeiras linhas e as 5 últimas."
   ]
  },
  {
   "cell_type": "code",
   "execution_count": 1,
   "metadata": {
    "id": "g0nVPrMxthIc"
   },
   "outputs": [
    {
     "data": {
      "text/html": [
       "<div>\n",
       "<style scoped>\n",
       "    .dataframe tbody tr th:only-of-type {\n",
       "        vertical-align: middle;\n",
       "    }\n",
       "\n",
       "    .dataframe tbody tr th {\n",
       "        vertical-align: top;\n",
       "    }\n",
       "\n",
       "    .dataframe thead th {\n",
       "        text-align: right;\n",
       "    }\n",
       "</style>\n",
       "<table border=\"1\" class=\"dataframe\">\n",
       "  <thead>\n",
       "    <tr style=\"text-align: right;\">\n",
       "      <th></th>\n",
       "      <th>name</th>\n",
       "      <th>selling_price</th>\n",
       "      <th>year</th>\n",
       "      <th>seller_type</th>\n",
       "      <th>owner</th>\n",
       "      <th>km_driven</th>\n",
       "      <th>ex_showroom_price</th>\n",
       "    </tr>\n",
       "  </thead>\n",
       "  <tbody>\n",
       "    <tr>\n",
       "      <th>0</th>\n",
       "      <td>Royal Enfield Classic 350</td>\n",
       "      <td>175000</td>\n",
       "      <td>2019</td>\n",
       "      <td>Individual</td>\n",
       "      <td>1st owner</td>\n",
       "      <td>350</td>\n",
       "      <td>NaN</td>\n",
       "    </tr>\n",
       "    <tr>\n",
       "      <th>1</th>\n",
       "      <td>Honda Dio</td>\n",
       "      <td>45000</td>\n",
       "      <td>2017</td>\n",
       "      <td>Individual</td>\n",
       "      <td>1st owner</td>\n",
       "      <td>5650</td>\n",
       "      <td>NaN</td>\n",
       "    </tr>\n",
       "    <tr>\n",
       "      <th>2</th>\n",
       "      <td>Royal Enfield Classic Gunmetal Grey</td>\n",
       "      <td>150000</td>\n",
       "      <td>2018</td>\n",
       "      <td>Individual</td>\n",
       "      <td>1st owner</td>\n",
       "      <td>12000</td>\n",
       "      <td>148114.0</td>\n",
       "    </tr>\n",
       "    <tr>\n",
       "      <th>3</th>\n",
       "      <td>Yamaha Fazer FI V 2.0 [2016-2018]</td>\n",
       "      <td>65000</td>\n",
       "      <td>2015</td>\n",
       "      <td>Individual</td>\n",
       "      <td>1st owner</td>\n",
       "      <td>23000</td>\n",
       "      <td>89643.0</td>\n",
       "    </tr>\n",
       "    <tr>\n",
       "      <th>4</th>\n",
       "      <td>Yamaha SZ [2013-2014]</td>\n",
       "      <td>20000</td>\n",
       "      <td>2011</td>\n",
       "      <td>Individual</td>\n",
       "      <td>2nd owner</td>\n",
       "      <td>21000</td>\n",
       "      <td>NaN</td>\n",
       "    </tr>\n",
       "  </tbody>\n",
       "</table>\n",
       "</div>"
      ],
      "text/plain": [
       "                                  name  selling_price  year seller_type  \\\n",
       "0            Royal Enfield Classic 350         175000  2019  Individual   \n",
       "1                            Honda Dio          45000  2017  Individual   \n",
       "2  Royal Enfield Classic Gunmetal Grey         150000  2018  Individual   \n",
       "3    Yamaha Fazer FI V 2.0 [2016-2018]          65000  2015  Individual   \n",
       "4                Yamaha SZ [2013-2014]          20000  2011  Individual   \n",
       "\n",
       "       owner  km_driven  ex_showroom_price  \n",
       "0  1st owner        350                NaN  \n",
       "1  1st owner       5650                NaN  \n",
       "2  1st owner      12000           148114.0  \n",
       "3  1st owner      23000            89643.0  \n",
       "4  2nd owner      21000                NaN  "
      ]
     },
     "execution_count": 1,
     "metadata": {},
     "output_type": "execute_result"
    }
   ],
   "source": [
    "import pandas as pd\n",
    "df = pd.read_csv(r'BIKE DETAILS.csv')\n",
    "df.head()"
   ]
  },
  {
   "cell_type": "code",
   "execution_count": 2,
   "metadata": {
    "id": "g0nVPrMxthIc"
   },
   "outputs": [
    {
     "data": {
      "text/html": [
       "<div>\n",
       "<style scoped>\n",
       "    .dataframe tbody tr th:only-of-type {\n",
       "        vertical-align: middle;\n",
       "    }\n",
       "\n",
       "    .dataframe tbody tr th {\n",
       "        vertical-align: top;\n",
       "    }\n",
       "\n",
       "    .dataframe thead th {\n",
       "        text-align: right;\n",
       "    }\n",
       "</style>\n",
       "<table border=\"1\" class=\"dataframe\">\n",
       "  <thead>\n",
       "    <tr style=\"text-align: right;\">\n",
       "      <th></th>\n",
       "      <th>name</th>\n",
       "      <th>selling_price</th>\n",
       "      <th>year</th>\n",
       "      <th>seller_type</th>\n",
       "      <th>owner</th>\n",
       "      <th>km_driven</th>\n",
       "      <th>ex_showroom_price</th>\n",
       "    </tr>\n",
       "  </thead>\n",
       "  <tbody>\n",
       "    <tr>\n",
       "      <th>1056</th>\n",
       "      <td>Activa 3g</td>\n",
       "      <td>17000</td>\n",
       "      <td>2010</td>\n",
       "      <td>Individual</td>\n",
       "      <td>1st owner</td>\n",
       "      <td>500000</td>\n",
       "      <td>52000.0</td>\n",
       "    </tr>\n",
       "    <tr>\n",
       "      <th>1057</th>\n",
       "      <td>Honda CB twister</td>\n",
       "      <td>16000</td>\n",
       "      <td>2012</td>\n",
       "      <td>Individual</td>\n",
       "      <td>1st owner</td>\n",
       "      <td>33000</td>\n",
       "      <td>51000.0</td>\n",
       "    </tr>\n",
       "    <tr>\n",
       "      <th>1058</th>\n",
       "      <td>Bajaj Discover 125</td>\n",
       "      <td>15000</td>\n",
       "      <td>2013</td>\n",
       "      <td>Individual</td>\n",
       "      <td>2nd owner</td>\n",
       "      <td>35000</td>\n",
       "      <td>57000.0</td>\n",
       "    </tr>\n",
       "    <tr>\n",
       "      <th>1059</th>\n",
       "      <td>Honda CB Shine</td>\n",
       "      <td>12000</td>\n",
       "      <td>2009</td>\n",
       "      <td>Individual</td>\n",
       "      <td>1st owner</td>\n",
       "      <td>53000</td>\n",
       "      <td>58000.0</td>\n",
       "    </tr>\n",
       "    <tr>\n",
       "      <th>1060</th>\n",
       "      <td>Bajaj Pulsar 150</td>\n",
       "      <td>10000</td>\n",
       "      <td>2008</td>\n",
       "      <td>Individual</td>\n",
       "      <td>1st owner</td>\n",
       "      <td>92233</td>\n",
       "      <td>75000.0</td>\n",
       "    </tr>\n",
       "  </tbody>\n",
       "</table>\n",
       "</div>"
      ],
      "text/plain": [
       "                    name  selling_price  year seller_type      owner  \\\n",
       "1056           Activa 3g          17000  2010  Individual  1st owner   \n",
       "1057    Honda CB twister          16000  2012  Individual  1st owner   \n",
       "1058  Bajaj Discover 125          15000  2013  Individual  2nd owner   \n",
       "1059      Honda CB Shine          12000  2009  Individual  1st owner   \n",
       "1060    Bajaj Pulsar 150          10000  2008  Individual  1st owner   \n",
       "\n",
       "      km_driven  ex_showroom_price  \n",
       "1056     500000            52000.0  \n",
       "1057      33000            51000.0  \n",
       "1058      35000            57000.0  \n",
       "1059      53000            58000.0  \n",
       "1060      92233            75000.0  "
      ]
     },
     "execution_count": 2,
     "metadata": {},
     "output_type": "execute_result"
    }
   ],
   "source": [
    "df.tail()"
   ]
  },
  {
   "cell_type": "markdown",
   "metadata": {
    "id": "dhZfG2eXVwlw"
   },
   "source": [
    "2 - Quais são os desvios padrão das classes \"selling_price\", \"km_driven\" e \"ex_showroom_price\"?\n",
    "\n",
    "R:"
   ]
  },
  {
   "cell_type": "code",
   "execution_count": 3,
   "metadata": {
    "id": "f2Vs_Kohtj23"
   },
   "outputs": [
    {
     "data": {
      "text/plain": [
       "selling_price        56304.291973\n",
       "km_driven            51623.152702\n",
       "ex_showroom_price    77496.587189\n",
       "dtype: float64"
      ]
     },
     "execution_count": 3,
     "metadata": {},
     "output_type": "execute_result"
    }
   ],
   "source": [
    "df[['selling_price','km_driven','ex_showroom_price']].std()"
   ]
  },
  {
   "cell_type": "markdown",
   "metadata": {
    "id": "usazsqrKVp3g"
   },
   "source": [
    "3 - Há dados faltantes? Em qual(is) classe(s)? Crie um conjuntos de dados contendo os índices faltantes.\n",
    "\n",
    "R:"
   ]
  },
  {
   "cell_type": "code",
   "execution_count": 4,
   "metadata": {
    "id": "OtJDNBnCtl6M"
   },
   "outputs": [
    {
     "name": "stdout",
     "output_type": "stream",
     "text": [
      "0\n",
      "1\n",
      "4\n",
      "7\n",
      "8\n",
      "14\n",
      "16\n",
      "20\n",
      "23\n",
      "24\n",
      "...\n"
     ]
    }
   ],
   "source": [
    "rows_with_nan = []\n",
    "for index, row in df.iterrows(): \n",
    "    if row.isnull().any():\n",
    "        rows_with_nan.append(index)\n",
    "\n",
    "for i in range(10):\n",
    "    print(rows_with_nan[i])\n",
    "print('...')"
   ]
  },
  {
   "cell_type": "code",
   "execution_count": 5,
   "metadata": {
    "id": "OtJDNBnCtl6M"
   },
   "outputs": [
    {
     "name": "stdout",
     "output_type": "stream",
     "text": [
      "0\n",
      "1\n",
      "4\n",
      "7\n",
      "8\n",
      "14\n",
      "16\n",
      "20\n",
      "23\n",
      "24\n",
      "...\n"
     ]
    }
   ],
   "source": [
    "rows_with_nan = [index for index, row in df.iterrows() if row.isnull().any()]\n",
    "for i in range(10):\n",
    "    print(rows_with_nan[i])\n",
    "print('...')"
   ]
  },
  {
   "cell_type": "markdown",
   "metadata": {
    "id": "53wBuh_3VjVT"
   },
   "source": [
    "4 - Havendo dados faltantes, qual a melhor estratégia que você usaria para esse conjunto de dados? Justifique.\n",
    "\n",
    "R: *Procuraria a amostra mais proxima de cada amostra com informação faltante e utilizaria a informação do vizinho como substituta para informação faltante, pois o numero de dados faltantes é alto e disperso então ignorar amostras incompletas reduziria muito o tamanho datataset e usar valores médios, modais ou medianos geraria uma distorsão muito grande nos dados*"
   ]
  },
  {
   "cell_type": "markdown",
   "metadata": {
    "id": "JGHGKkLClzYY"
   },
   "source": [
    "5 - Gere um gráfico de dispersão entre preço de venda vs ano. Que conclusão podemos retirar desse gráfico?\n",
    "\n",
    "R:"
   ]
  },
  {
   "cell_type": "code",
   "execution_count": 6,
   "metadata": {
    "id": "6CFZyl9ktsAe"
   },
   "outputs": [
    {
     "data": {
      "text/plain": [
       "<matplotlib.collections.PathCollection at 0x7feb29286fa0>"
      ]
     },
     "execution_count": 6,
     "metadata": {},
     "output_type": "execute_result"
    },
    {
     "data": {
      "image/png": "[encoded data removed]",
      "text/plain": [
       "<Figure size 432x288 with 1 Axes>"
      ]
     },
     "metadata": {
      "needs_background": "light"
     },
     "output_type": "display_data"
    }
   ],
   "source": [
    "import matplotlib.pyplot as plt\n",
    "plt.title('Grafico')\n",
    "plt.xlabel('selling_price')\n",
    "plt.ylabel('year')\n",
    "plt.scatter(df['selling_price'], df['year'])"
   ]
  },
  {
   "cell_type": "markdown",
   "metadata": {
    "id": "VmcuLIqdpgW0"
   },
   "source": [
    "6 - Gere um gráfico tipo histograma com relação ao ano. A maior quantidade de motos está entre quais anos?\n",
    "\n",
    "R:"
   ]
  },
  {
   "cell_type": "code",
   "execution_count": 7,
   "metadata": {
    "id": "VmcuLIqdpgW0"
   },
   "outputs": [
    {
     "data": {
      "text/plain": [
       "(array([  2.,   1.,   3.,  10.,   6.,  68., 116., 204., 298., 353.]),\n",
       " array([1988. , 1991.2, 1994.4, 1997.6, 2000.8, 2004. , 2007.2, 2010.4,\n",
       "        2013.6, 2016.8, 2020. ]),\n",
       " <BarContainer object of 10 artists>)"
      ]
     },
     "execution_count": 7,
     "metadata": {},
     "output_type": "execute_result"
    },
    {
     "data": {
      "image/png": "[encoded data removed]",
      "text/plain": [
       "<Figure size 432x288 with 1 Axes>"
      ]
     },
     "metadata": {
      "needs_background": "light"
     },
     "output_type": "display_data"
    }
   ],
   "source": [
    "plt.hist(df['year'])"
   ]
  },
  {
   "cell_type": "markdown",
   "metadata": {
    "id": "rJjN335TqUzA"
   },
   "source": [
    "7 - Qual(is) a(s) sua(s) expectativa(s) com relação à disciplina de Aprendizado de Máquina? Pelo que foi apresentado nessas atividades complementares, em que você teve maior dificuldade (não em relação ao uso dos comandos, mas em relação ao assunto)?\n",
    "\n",
    "R:"
   ]
  },
  {
   "cell_type": "markdown",
   "metadata": {
    "id": "Gy4gTB-RuJ5c"
   },
   "source": [
    "*Com relação ao assunto em si não tive dificuldade, o momento que eu tive dificuldade foi na manipulação do dataframe (selecionar uma coluna especifica, ou as linhas com valores null). Sobre o que espero da disciplina, espero exercitar aplicações reais das tecnicas de aprendizado de maquina*"
   ]
  }
 ],
 "metadata": {
  "colab": {
   "name": "AC04.ipynb",
   "provenance": []
  },
  "kernelspec": {
   "display_name": "Python 3",
   "language": "python",
   "name": "python3"
  },
  "language_info": {
   "codemirror_mode": {
    "name": "ipython",
    "version": 3
   },
   "file_extension": ".py",
   "mimetype": "text/x-python",
   "name": "python",
   "nbconvert_exporter": "python",
   "pygments_lexer": "ipython3",
   "version": "3.8.10"
  },
  "widgets": {
   "application/vnd.jupyter.widget-state+json": {
    "state": {},
    "version_major": 2,
    "version_minor": 0
   }
  }
 },
 "nbformat": 4,
 "nbformat_minor": 4
}
